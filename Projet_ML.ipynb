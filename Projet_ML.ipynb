{
  "cells": [
    {
      "cell_type": "markdown",
      "metadata": {
        "id": "J9xHEfzUchSD"
      },
      "source": [
        "***PROJET ML***\n"
      ]
    },
    {
      "cell_type": "code",
      "execution_count": 3,
      "metadata": {
        "colab": {
          "base_uri": "https://localhost:8080/"
        },
        "id": "E1h7Q_sGcuAv",
        "outputId": "d839a843-65e9-46c6-bfd5-05e269058cea"
      },
      "outputs": [
        {
          "name": "stdout",
          "output_type": "stream",
          "text": [
            "Requirement already satisfied: ydata_profiling in /opt/anaconda3/envs/mlenv/lib/python3.10/site-packages (4.11.0)\n",
            "Requirement already satisfied: scipy<1.14,>=1.4.1 in /opt/anaconda3/envs/mlenv/lib/python3.10/site-packages (from ydata_profiling) (1.13.1)\n",
            "Requirement already satisfied: pandas!=1.4.0,<3,>1.1 in /opt/anaconda3/envs/mlenv/lib/python3.10/site-packages (from ydata_profiling) (2.2.3)\n",
            "Requirement already satisfied: matplotlib<3.10,>=3.5 in /opt/anaconda3/envs/mlenv/lib/python3.10/site-packages (from ydata_profiling) (3.9.2)\n",
            "Requirement already satisfied: pydantic>=2 in /opt/anaconda3/envs/mlenv/lib/python3.10/site-packages (from ydata_profiling) (2.9.2)\n",
            "Requirement already satisfied: PyYAML<6.1,>=5.0.0 in /opt/anaconda3/envs/mlenv/lib/python3.10/site-packages (from ydata_profiling) (6.0.2)\n",
            "Requirement already satisfied: jinja2<3.2,>=2.11.1 in /opt/anaconda3/envs/mlenv/lib/python3.10/site-packages (from ydata_profiling) (3.1.4)\n",
            "Requirement already satisfied: visions<0.7.7,>=0.7.5 in /opt/anaconda3/envs/mlenv/lib/python3.10/site-packages (from visions[type_image_path]<0.7.7,>=0.7.5->ydata_profiling) (0.7.6)\n",
            "Requirement already satisfied: numpy<2.2,>=1.16.0 in /opt/anaconda3/envs/mlenv/lib/python3.10/site-packages (from ydata_profiling) (2.0.2)\n",
            "Requirement already satisfied: htmlmin==0.1.12 in /opt/anaconda3/envs/mlenv/lib/python3.10/site-packages (from ydata_profiling) (0.1.12)\n",
            "Requirement already satisfied: phik<0.13,>=0.11.1 in /opt/anaconda3/envs/mlenv/lib/python3.10/site-packages (from ydata_profiling) (0.12.4)\n",
            "Requirement already satisfied: requests<3,>=2.24.0 in /opt/anaconda3/envs/mlenv/lib/python3.10/site-packages (from ydata_profiling) (2.32.3)\n",
            "Requirement already satisfied: tqdm<5,>=4.48.2 in /opt/anaconda3/envs/mlenv/lib/python3.10/site-packages (from ydata_profiling) (4.66.5)\n",
            "Requirement already satisfied: seaborn<0.14,>=0.10.1 in /opt/anaconda3/envs/mlenv/lib/python3.10/site-packages (from ydata_profiling) (0.13.2)\n",
            "Requirement already satisfied: multimethod<2,>=1.4 in /opt/anaconda3/envs/mlenv/lib/python3.10/site-packages (from ydata_profiling) (1.12)\n",
            "Requirement already satisfied: statsmodels<1,>=0.13.2 in /opt/anaconda3/envs/mlenv/lib/python3.10/site-packages (from ydata_profiling) (0.14.4)\n",
            "Requirement already satisfied: typeguard<5,>=3 in /opt/anaconda3/envs/mlenv/lib/python3.10/site-packages (from ydata_profiling) (4.3.0)\n",
            "Requirement already satisfied: imagehash==4.3.1 in /opt/anaconda3/envs/mlenv/lib/python3.10/site-packages (from ydata_profiling) (4.3.1)\n",
            "Requirement already satisfied: wordcloud>=1.9.3 in /opt/anaconda3/envs/mlenv/lib/python3.10/site-packages (from ydata_profiling) (1.9.3)\n",
            "Requirement already satisfied: dacite>=1.8 in /opt/anaconda3/envs/mlenv/lib/python3.10/site-packages (from ydata_profiling) (1.8.1)\n",
            "Requirement already satisfied: numba<1,>=0.56.0 in /opt/anaconda3/envs/mlenv/lib/python3.10/site-packages (from ydata_profiling) (0.60.0)\n",
            "Requirement already satisfied: PyWavelets in /opt/anaconda3/envs/mlenv/lib/python3.10/site-packages (from imagehash==4.3.1->ydata_profiling) (1.7.0)\n",
            "Requirement already satisfied: pillow in /opt/anaconda3/envs/mlenv/lib/python3.10/site-packages (from imagehash==4.3.1->ydata_profiling) (10.4.0)\n",
            "Requirement already satisfied: MarkupSafe>=2.0 in /opt/anaconda3/envs/mlenv/lib/python3.10/site-packages (from jinja2<3.2,>=2.11.1->ydata_profiling) (3.0.2)\n",
            "Requirement already satisfied: contourpy>=1.0.1 in /opt/anaconda3/envs/mlenv/lib/python3.10/site-packages (from matplotlib<3.10,>=3.5->ydata_profiling) (1.3.0)\n",
            "Requirement already satisfied: cycler>=0.10 in /opt/anaconda3/envs/mlenv/lib/python3.10/site-packages (from matplotlib<3.10,>=3.5->ydata_profiling) (0.12.1)\n",
            "Requirement already satisfied: fonttools>=4.22.0 in /opt/anaconda3/envs/mlenv/lib/python3.10/site-packages (from matplotlib<3.10,>=3.5->ydata_profiling) (4.54.1)\n",
            "Requirement already satisfied: kiwisolver>=1.3.1 in /opt/anaconda3/envs/mlenv/lib/python3.10/site-packages (from matplotlib<3.10,>=3.5->ydata_profiling) (1.4.7)\n",
            "Requirement already satisfied: packaging>=20.0 in /opt/anaconda3/envs/mlenv/lib/python3.10/site-packages (from matplotlib<3.10,>=3.5->ydata_profiling) (24.1)\n",
            "Requirement already satisfied: pyparsing>=2.3.1 in /opt/anaconda3/envs/mlenv/lib/python3.10/site-packages (from matplotlib<3.10,>=3.5->ydata_profiling) (3.2.0)\n",
            "Requirement already satisfied: python-dateutil>=2.7 in /opt/anaconda3/envs/mlenv/lib/python3.10/site-packages (from matplotlib<3.10,>=3.5->ydata_profiling) (2.9.0)\n",
            "Requirement already satisfied: llvmlite<0.44,>=0.43.0dev0 in /opt/anaconda3/envs/mlenv/lib/python3.10/site-packages (from numba<1,>=0.56.0->ydata_profiling) (0.43.0)\n",
            "Requirement already satisfied: pytz>=2020.1 in /opt/anaconda3/envs/mlenv/lib/python3.10/site-packages (from pandas!=1.4.0,<3,>1.1->ydata_profiling) (2024.2)\n",
            "Requirement already satisfied: tzdata>=2022.7 in /opt/anaconda3/envs/mlenv/lib/python3.10/site-packages (from pandas!=1.4.0,<3,>1.1->ydata_profiling) (2024.2)\n",
            "Requirement already satisfied: joblib>=0.14.1 in /opt/anaconda3/envs/mlenv/lib/python3.10/site-packages (from phik<0.13,>=0.11.1->ydata_profiling) (1.4.2)\n",
            "Requirement already satisfied: annotated-types>=0.6.0 in /opt/anaconda3/envs/mlenv/lib/python3.10/site-packages (from pydantic>=2->ydata_profiling) (0.7.0)\n",
            "Requirement already satisfied: pydantic-core==2.23.4 in /opt/anaconda3/envs/mlenv/lib/python3.10/site-packages (from pydantic>=2->ydata_profiling) (2.23.4)\n",
            "Requirement already satisfied: typing-extensions>=4.6.1 in /opt/anaconda3/envs/mlenv/lib/python3.10/site-packages (from pydantic>=2->ydata_profiling) (4.12.2)\n",
            "Requirement already satisfied: charset-normalizer<4,>=2 in /opt/anaconda3/envs/mlenv/lib/python3.10/site-packages (from requests<3,>=2.24.0->ydata_profiling) (3.4.0)\n",
            "Requirement already satisfied: idna<4,>=2.5 in /opt/anaconda3/envs/mlenv/lib/python3.10/site-packages (from requests<3,>=2.24.0->ydata_profiling) (3.10)\n",
            "Requirement already satisfied: urllib3<3,>=1.21.1 in /opt/anaconda3/envs/mlenv/lib/python3.10/site-packages (from requests<3,>=2.24.0->ydata_profiling) (2.2.3)\n",
            "Requirement already satisfied: certifi>=2017.4.17 in /opt/anaconda3/envs/mlenv/lib/python3.10/site-packages (from requests<3,>=2.24.0->ydata_profiling) (2024.8.30)\n",
            "Requirement already satisfied: patsy>=0.5.6 in /opt/anaconda3/envs/mlenv/lib/python3.10/site-packages (from statsmodels<1,>=0.13.2->ydata_profiling) (0.5.6)\n",
            "Requirement already satisfied: attrs>=19.3.0 in /opt/anaconda3/envs/mlenv/lib/python3.10/site-packages (from visions<0.7.7,>=0.7.5->visions[type_image_path]<0.7.7,>=0.7.5->ydata_profiling) (24.2.0)\n",
            "Requirement already satisfied: networkx>=2.4 in /opt/anaconda3/envs/mlenv/lib/python3.10/site-packages (from visions<0.7.7,>=0.7.5->visions[type_image_path]<0.7.7,>=0.7.5->ydata_profiling) (3.4.2)\n",
            "Requirement already satisfied: six in /opt/anaconda3/envs/mlenv/lib/python3.10/site-packages (from patsy>=0.5.6->statsmodels<1,>=0.13.2->ydata_profiling) (1.16.0)\n"
          ]
        }
      ],
      "source": [
        "!pip install ydata_profiling"
      ]
    },
    {
      "cell_type": "code",
      "execution_count": 4,
      "metadata": {
        "id": "k5_NDZMGchSE"
      },
      "outputs": [],
      "source": [
        "# Pour la manipulation de données\n",
        "import pandas as pd\n",
        "import numpy as np\n",
        "# Pour la visualisation\n",
        "import matplotlib.pyplot as plt\n",
        "import seaborn as sns\n",
        "# Scikit-learn Pour la modélisation et l'évaluation\n",
        "from sklearn.model_selection import train_test_split, GridSearchCV, RandomizedSearchCV\n",
        "# 1.train_test_split : Séparation de donnée en ensemble d'entrainement et de test\n",
        "# 2. GridSearchCV : Recherche des meilleurs hyperparamètres\n",
        "# 3. RandomizedSearchCV : Recherche d’hyperparamètres aléatoire\n",
        "from sklearn.preprocessing import StandardScaler, LabelEncoder, OneHotEncoder\n",
        "# 1. StandardScaler : Mise à l'échelle des données\n",
        "# 2. LabelEncoder : Encodage des variables catégorielles\n",
        "# 3. OneHotEncoder : Encodage de variables catégorielles\n",
        "from sklearn.metrics import accuracy_score, confusion_matrix, classification_report, f1_score, roc_auc_score\n",
        "# 1. accuracy_score : Mesure de la précision\n",
        "# 2. confusion_matrix : Matrice de confusion\n",
        "# 3. classification_report : Rapport complet des métriques\n",
        "# 4. f1_score : Score F1\n",
        "# 5. roc_auc_score : Courbe ROC et AUC pour les classifications binaires\n",
        "from sklearn.linear_model import LogisticRegression\n",
        "# LogisticRegression : Modèle de régression logistique\n",
        "from sklearn.ensemble import RandomForestClassifier\n",
        "# RandomForestClassifier : Classificateur par forêts aléatoires\n",
        "from sklearn.neighbors import KNeighborsClassifier\n",
        "# KNeighborsClassifier : Classificateur K-Nearest Neighbors\n",
        "from sklearn.tree import DecisionTreeClassifier\n",
        "# DecisionTreeClassifier : Classificateur Arbre de Décision\n",
        "\n",
        "from pathlib import Path\n",
        "from ydata_profiling import ProfileReport\n",
        "\n",
        "from sklearn.pipeline import Pipeline\n",
        "from sklearn.impute import SimpleImputer\n",
        "from sklearn.model_selection import cross_val_score\n",
        "from IPython.display import display\n",
        "import pandas._typing\n",
        "import os\n",
        "import pickle"
      ]
    },
    {
      "cell_type": "markdown",
      "metadata": {
        "id": "4AQt-YQRchSF"
      },
      "source": [
        "***Ouverture du DataSet***"
      ]
    },
    {
      "cell_type": "code",
      "execution_count": 5,
      "metadata": {
        "colab": {
          "base_uri": "https://localhost:8080/",
          "height": 444
        },
        "id": "QrcbD2vAchSG",
        "outputId": "79318349-0fbc-4cac-aecc-30e363fe5c66"
      },
      "outputs": [
        {
          "data": {
            "text/html": [
              "<div>\n",
              "<style scoped>\n",
              "    .dataframe tbody tr th:only-of-type {\n",
              "        vertical-align: middle;\n",
              "    }\n",
              "\n",
              "    .dataframe tbody tr th {\n",
              "        vertical-align: top;\n",
              "    }\n",
              "\n",
              "    .dataframe thead th {\n",
              "        text-align: right;\n",
              "    }\n",
              "</style>\n",
              "<table border=\"1\" class=\"dataframe\">\n",
              "  <thead>\n",
              "    <tr style=\"text-align: right;\">\n",
              "      <th></th>\n",
              "      <th>RowNumber</th>\n",
              "      <th>CustomerId</th>\n",
              "      <th>Surname</th>\n",
              "      <th>CreditScore</th>\n",
              "      <th>Geography</th>\n",
              "      <th>Gender</th>\n",
              "      <th>Age</th>\n",
              "      <th>Tenure</th>\n",
              "      <th>Balance</th>\n",
              "      <th>NumOfProducts</th>\n",
              "      <th>HasCrCard</th>\n",
              "      <th>IsActiveMember</th>\n",
              "      <th>EstimatedSalary</th>\n",
              "      <th>Exited</th>\n",
              "    </tr>\n",
              "  </thead>\n",
              "  <tbody>\n",
              "    <tr>\n",
              "      <th>0</th>\n",
              "      <td>1</td>\n",
              "      <td>15634602</td>\n",
              "      <td>Hargrave</td>\n",
              "      <td>619</td>\n",
              "      <td>France</td>\n",
              "      <td>Female</td>\n",
              "      <td>42</td>\n",
              "      <td>2</td>\n",
              "      <td>0.00</td>\n",
              "      <td>1</td>\n",
              "      <td>1</td>\n",
              "      <td>1</td>\n",
              "      <td>101348.88</td>\n",
              "      <td>1</td>\n",
              "    </tr>\n",
              "    <tr>\n",
              "      <th>1</th>\n",
              "      <td>2</td>\n",
              "      <td>15647311</td>\n",
              "      <td>Hill</td>\n",
              "      <td>608</td>\n",
              "      <td>Spain</td>\n",
              "      <td>Female</td>\n",
              "      <td>41</td>\n",
              "      <td>1</td>\n",
              "      <td>83807.86</td>\n",
              "      <td>1</td>\n",
              "      <td>0</td>\n",
              "      <td>1</td>\n",
              "      <td>112542.58</td>\n",
              "      <td>0</td>\n",
              "    </tr>\n",
              "    <tr>\n",
              "      <th>2</th>\n",
              "      <td>3</td>\n",
              "      <td>15619304</td>\n",
              "      <td>Onio</td>\n",
              "      <td>502</td>\n",
              "      <td>France</td>\n",
              "      <td>Female</td>\n",
              "      <td>42</td>\n",
              "      <td>8</td>\n",
              "      <td>159660.80</td>\n",
              "      <td>3</td>\n",
              "      <td>1</td>\n",
              "      <td>0</td>\n",
              "      <td>113931.57</td>\n",
              "      <td>1</td>\n",
              "    </tr>\n",
              "    <tr>\n",
              "      <th>3</th>\n",
              "      <td>4</td>\n",
              "      <td>15701354</td>\n",
              "      <td>Boni</td>\n",
              "      <td>699</td>\n",
              "      <td>France</td>\n",
              "      <td>Female</td>\n",
              "      <td>39</td>\n",
              "      <td>1</td>\n",
              "      <td>0.00</td>\n",
              "      <td>2</td>\n",
              "      <td>0</td>\n",
              "      <td>0</td>\n",
              "      <td>93826.63</td>\n",
              "      <td>0</td>\n",
              "    </tr>\n",
              "    <tr>\n",
              "      <th>4</th>\n",
              "      <td>5</td>\n",
              "      <td>15737888</td>\n",
              "      <td>Mitchell</td>\n",
              "      <td>850</td>\n",
              "      <td>Spain</td>\n",
              "      <td>Female</td>\n",
              "      <td>43</td>\n",
              "      <td>2</td>\n",
              "      <td>125510.82</td>\n",
              "      <td>1</td>\n",
              "      <td>1</td>\n",
              "      <td>1</td>\n",
              "      <td>79084.10</td>\n",
              "      <td>0</td>\n",
              "    </tr>\n",
              "    <tr>\n",
              "      <th>...</th>\n",
              "      <td>...</td>\n",
              "      <td>...</td>\n",
              "      <td>...</td>\n",
              "      <td>...</td>\n",
              "      <td>...</td>\n",
              "      <td>...</td>\n",
              "      <td>...</td>\n",
              "      <td>...</td>\n",
              "      <td>...</td>\n",
              "      <td>...</td>\n",
              "      <td>...</td>\n",
              "      <td>...</td>\n",
              "      <td>...</td>\n",
              "      <td>...</td>\n",
              "    </tr>\n",
              "    <tr>\n",
              "      <th>9995</th>\n",
              "      <td>9996</td>\n",
              "      <td>15606229</td>\n",
              "      <td>Obijiaku</td>\n",
              "      <td>771</td>\n",
              "      <td>France</td>\n",
              "      <td>Male</td>\n",
              "      <td>39</td>\n",
              "      <td>5</td>\n",
              "      <td>0.00</td>\n",
              "      <td>2</td>\n",
              "      <td>1</td>\n",
              "      <td>0</td>\n",
              "      <td>96270.64</td>\n",
              "      <td>0</td>\n",
              "    </tr>\n",
              "    <tr>\n",
              "      <th>9996</th>\n",
              "      <td>9997</td>\n",
              "      <td>15569892</td>\n",
              "      <td>Johnstone</td>\n",
              "      <td>516</td>\n",
              "      <td>France</td>\n",
              "      <td>Male</td>\n",
              "      <td>35</td>\n",
              "      <td>10</td>\n",
              "      <td>57369.61</td>\n",
              "      <td>1</td>\n",
              "      <td>1</td>\n",
              "      <td>1</td>\n",
              "      <td>101699.77</td>\n",
              "      <td>0</td>\n",
              "    </tr>\n",
              "    <tr>\n",
              "      <th>9997</th>\n",
              "      <td>9998</td>\n",
              "      <td>15584532</td>\n",
              "      <td>Liu</td>\n",
              "      <td>709</td>\n",
              "      <td>France</td>\n",
              "      <td>Female</td>\n",
              "      <td>36</td>\n",
              "      <td>7</td>\n",
              "      <td>0.00</td>\n",
              "      <td>1</td>\n",
              "      <td>0</td>\n",
              "      <td>1</td>\n",
              "      <td>42085.58</td>\n",
              "      <td>1</td>\n",
              "    </tr>\n",
              "    <tr>\n",
              "      <th>9998</th>\n",
              "      <td>9999</td>\n",
              "      <td>15682355</td>\n",
              "      <td>Sabbatini</td>\n",
              "      <td>772</td>\n",
              "      <td>Germany</td>\n",
              "      <td>Male</td>\n",
              "      <td>42</td>\n",
              "      <td>3</td>\n",
              "      <td>75075.31</td>\n",
              "      <td>2</td>\n",
              "      <td>1</td>\n",
              "      <td>0</td>\n",
              "      <td>92888.52</td>\n",
              "      <td>1</td>\n",
              "    </tr>\n",
              "    <tr>\n",
              "      <th>9999</th>\n",
              "      <td>10000</td>\n",
              "      <td>15628319</td>\n",
              "      <td>Walker</td>\n",
              "      <td>792</td>\n",
              "      <td>France</td>\n",
              "      <td>Female</td>\n",
              "      <td>28</td>\n",
              "      <td>4</td>\n",
              "      <td>130142.79</td>\n",
              "      <td>1</td>\n",
              "      <td>1</td>\n",
              "      <td>0</td>\n",
              "      <td>38190.78</td>\n",
              "      <td>0</td>\n",
              "    </tr>\n",
              "  </tbody>\n",
              "</table>\n",
              "<p>10000 rows × 14 columns</p>\n",
              "</div>"
            ],
            "text/plain": [
              "      RowNumber  CustomerId    Surname  CreditScore Geography  Gender  Age  \\\n",
              "0             1    15634602   Hargrave          619    France  Female   42   \n",
              "1             2    15647311       Hill          608     Spain  Female   41   \n",
              "2             3    15619304       Onio          502    France  Female   42   \n",
              "3             4    15701354       Boni          699    France  Female   39   \n",
              "4             5    15737888   Mitchell          850     Spain  Female   43   \n",
              "...         ...         ...        ...          ...       ...     ...  ...   \n",
              "9995       9996    15606229   Obijiaku          771    France    Male   39   \n",
              "9996       9997    15569892  Johnstone          516    France    Male   35   \n",
              "9997       9998    15584532        Liu          709    France  Female   36   \n",
              "9998       9999    15682355  Sabbatini          772   Germany    Male   42   \n",
              "9999      10000    15628319     Walker          792    France  Female   28   \n",
              "\n",
              "      Tenure    Balance  NumOfProducts  HasCrCard  IsActiveMember  \\\n",
              "0          2       0.00              1          1               1   \n",
              "1          1   83807.86              1          0               1   \n",
              "2          8  159660.80              3          1               0   \n",
              "3          1       0.00              2          0               0   \n",
              "4          2  125510.82              1          1               1   \n",
              "...      ...        ...            ...        ...             ...   \n",
              "9995       5       0.00              2          1               0   \n",
              "9996      10   57369.61              1          1               1   \n",
              "9997       7       0.00              1          0               1   \n",
              "9998       3   75075.31              2          1               0   \n",
              "9999       4  130142.79              1          1               0   \n",
              "\n",
              "      EstimatedSalary  Exited  \n",
              "0           101348.88       1  \n",
              "1           112542.58       0  \n",
              "2           113931.57       1  \n",
              "3            93826.63       0  \n",
              "4            79084.10       0  \n",
              "...               ...     ...  \n",
              "9995         96270.64       0  \n",
              "9996        101699.77       0  \n",
              "9997         42085.58       1  \n",
              "9998         92888.52       1  \n",
              "9999         38190.78       0  \n",
              "\n",
              "[10000 rows x 14 columns]"
            ]
          },
          "execution_count": 5,
          "metadata": {},
          "output_type": "execute_result"
        }
      ],
      "source": [
        "churn = pd.read_csv('Customer_churn.csv')\n",
        "churn"
      ]
    },
    {
      "cell_type": "markdown",
      "metadata": {
        "id": "62f-UgfychSG"
      },
      "source": [
        "***Analyse de la DataFrame EDA***"
      ]
    },
    {
      "cell_type": "code",
      "execution_count": 6,
      "metadata": {
        "colab": {
          "base_uri": "https://localhost:8080/"
        },
        "id": "m95WUj6pchSG",
        "outputId": "794e98dd-9ea1-45f8-a89b-2b67af479c12"
      },
      "outputs": [
        {
          "name": "stdout",
          "output_type": "stream",
          "text": [
            "<class 'pandas.core.frame.DataFrame'>\n",
            "RangeIndex: 10000 entries, 0 to 9999\n",
            "Data columns (total 14 columns):\n",
            " #   Column           Non-Null Count  Dtype  \n",
            "---  ------           --------------  -----  \n",
            " 0   RowNumber        10000 non-null  int64  \n",
            " 1   CustomerId       10000 non-null  int64  \n",
            " 2   Surname          10000 non-null  object \n",
            " 3   CreditScore      10000 non-null  int64  \n",
            " 4   Geography        10000 non-null  object \n",
            " 5   Gender           10000 non-null  object \n",
            " 6   Age              10000 non-null  int64  \n",
            " 7   Tenure           10000 non-null  int64  \n",
            " 8   Balance          10000 non-null  float64\n",
            " 9   NumOfProducts    10000 non-null  int64  \n",
            " 10  HasCrCard        10000 non-null  int64  \n",
            " 11  IsActiveMember   10000 non-null  int64  \n",
            " 12  EstimatedSalary  10000 non-null  float64\n",
            " 13  Exited           10000 non-null  int64  \n",
            "dtypes: float64(2), int64(9), object(3)\n",
            "memory usage: 1.1+ MB\n"
          ]
        }
      ],
      "source": [
        "churn.info()"
      ]
    },
    {
      "cell_type": "markdown",
      "metadata": {
        "id": "1HT8kN8JchSG"
      },
      "source": [
        "On a des colonnes comme RowNumber, CustomerId et Surname qui ne nous sont pas utile pour notre modèle on va donc supprimer ces dernières"
      ]
    },
    {
      "cell_type": "code",
      "execution_count": 7,
      "metadata": {
        "id": "dIjAfvwechSG"
      },
      "outputs": [],
      "source": [
        "churn = churn.drop(columns=['RowNumber', 'CustomerId', 'Surname'])"
      ]
    },
    {
      "cell_type": "code",
      "execution_count": 8,
      "metadata": {
        "colab": {
          "base_uri": "https://localhost:8080/"
        },
        "id": "9GJgja3qchSG",
        "outputId": "17400d4a-0d5a-4ef0-95df-e0f40c4c2102"
      },
      "outputs": [
        {
          "name": "stdout",
          "output_type": "stream",
          "text": [
            "<class 'pandas.core.frame.DataFrame'>\n",
            "RangeIndex: 10000 entries, 0 to 9999\n",
            "Data columns (total 11 columns):\n",
            " #   Column           Non-Null Count  Dtype  \n",
            "---  ------           --------------  -----  \n",
            " 0   CreditScore      10000 non-null  int64  \n",
            " 1   Geography        10000 non-null  object \n",
            " 2   Gender           10000 non-null  object \n",
            " 3   Age              10000 non-null  int64  \n",
            " 4   Tenure           10000 non-null  int64  \n",
            " 5   Balance          10000 non-null  float64\n",
            " 6   NumOfProducts    10000 non-null  int64  \n",
            " 7   HasCrCard        10000 non-null  int64  \n",
            " 8   IsActiveMember   10000 non-null  int64  \n",
            " 9   EstimatedSalary  10000 non-null  float64\n",
            " 10  Exited           10000 non-null  int64  \n",
            "dtypes: float64(2), int64(7), object(2)\n",
            "memory usage: 859.5+ KB\n"
          ]
        }
      ],
      "source": [
        "churn.info()"
      ]
    },
    {
      "cell_type": "code",
      "execution_count": 9,
      "metadata": {
        "colab": {
          "base_uri": "https://localhost:8080/",
          "height": 320
        },
        "id": "lTQz7TaVchSG",
        "outputId": "ccac6bb2-5a95-4e7d-f423-0ad4270cf730"
      },
      "outputs": [
        {
          "data": {
            "text/html": [
              "<div>\n",
              "<style scoped>\n",
              "    .dataframe tbody tr th:only-of-type {\n",
              "        vertical-align: middle;\n",
              "    }\n",
              "\n",
              "    .dataframe tbody tr th {\n",
              "        vertical-align: top;\n",
              "    }\n",
              "\n",
              "    .dataframe thead th {\n",
              "        text-align: right;\n",
              "    }\n",
              "</style>\n",
              "<table border=\"1\" class=\"dataframe\">\n",
              "  <thead>\n",
              "    <tr style=\"text-align: right;\">\n",
              "      <th></th>\n",
              "      <th>CreditScore</th>\n",
              "      <th>Age</th>\n",
              "      <th>Tenure</th>\n",
              "      <th>Balance</th>\n",
              "      <th>NumOfProducts</th>\n",
              "      <th>HasCrCard</th>\n",
              "      <th>IsActiveMember</th>\n",
              "      <th>EstimatedSalary</th>\n",
              "      <th>Exited</th>\n",
              "    </tr>\n",
              "  </thead>\n",
              "  <tbody>\n",
              "    <tr>\n",
              "      <th>count</th>\n",
              "      <td>10000.000000</td>\n",
              "      <td>10000.000000</td>\n",
              "      <td>10000.000000</td>\n",
              "      <td>10000.000000</td>\n",
              "      <td>10000.000000</td>\n",
              "      <td>10000.00000</td>\n",
              "      <td>10000.000000</td>\n",
              "      <td>10000.000000</td>\n",
              "      <td>10000.000000</td>\n",
              "    </tr>\n",
              "    <tr>\n",
              "      <th>mean</th>\n",
              "      <td>650.528800</td>\n",
              "      <td>38.921800</td>\n",
              "      <td>5.012800</td>\n",
              "      <td>76485.889288</td>\n",
              "      <td>1.530200</td>\n",
              "      <td>0.70550</td>\n",
              "      <td>0.515100</td>\n",
              "      <td>100090.239881</td>\n",
              "      <td>0.203700</td>\n",
              "    </tr>\n",
              "    <tr>\n",
              "      <th>std</th>\n",
              "      <td>96.653299</td>\n",
              "      <td>10.487806</td>\n",
              "      <td>2.892174</td>\n",
              "      <td>62397.405202</td>\n",
              "      <td>0.581654</td>\n",
              "      <td>0.45584</td>\n",
              "      <td>0.499797</td>\n",
              "      <td>57510.492818</td>\n",
              "      <td>0.402769</td>\n",
              "    </tr>\n",
              "    <tr>\n",
              "      <th>min</th>\n",
              "      <td>350.000000</td>\n",
              "      <td>18.000000</td>\n",
              "      <td>0.000000</td>\n",
              "      <td>0.000000</td>\n",
              "      <td>1.000000</td>\n",
              "      <td>0.00000</td>\n",
              "      <td>0.000000</td>\n",
              "      <td>11.580000</td>\n",
              "      <td>0.000000</td>\n",
              "    </tr>\n",
              "    <tr>\n",
              "      <th>25%</th>\n",
              "      <td>584.000000</td>\n",
              "      <td>32.000000</td>\n",
              "      <td>3.000000</td>\n",
              "      <td>0.000000</td>\n",
              "      <td>1.000000</td>\n",
              "      <td>0.00000</td>\n",
              "      <td>0.000000</td>\n",
              "      <td>51002.110000</td>\n",
              "      <td>0.000000</td>\n",
              "    </tr>\n",
              "    <tr>\n",
              "      <th>50%</th>\n",
              "      <td>652.000000</td>\n",
              "      <td>37.000000</td>\n",
              "      <td>5.000000</td>\n",
              "      <td>97198.540000</td>\n",
              "      <td>1.000000</td>\n",
              "      <td>1.00000</td>\n",
              "      <td>1.000000</td>\n",
              "      <td>100193.915000</td>\n",
              "      <td>0.000000</td>\n",
              "    </tr>\n",
              "    <tr>\n",
              "      <th>75%</th>\n",
              "      <td>718.000000</td>\n",
              "      <td>44.000000</td>\n",
              "      <td>7.000000</td>\n",
              "      <td>127644.240000</td>\n",
              "      <td>2.000000</td>\n",
              "      <td>1.00000</td>\n",
              "      <td>1.000000</td>\n",
              "      <td>149388.247500</td>\n",
              "      <td>0.000000</td>\n",
              "    </tr>\n",
              "    <tr>\n",
              "      <th>max</th>\n",
              "      <td>850.000000</td>\n",
              "      <td>92.000000</td>\n",
              "      <td>10.000000</td>\n",
              "      <td>250898.090000</td>\n",
              "      <td>4.000000</td>\n",
              "      <td>1.00000</td>\n",
              "      <td>1.000000</td>\n",
              "      <td>199992.480000</td>\n",
              "      <td>1.000000</td>\n",
              "    </tr>\n",
              "  </tbody>\n",
              "</table>\n",
              "</div>"
            ],
            "text/plain": [
              "        CreditScore           Age        Tenure        Balance  NumOfProducts  \\\n",
              "count  10000.000000  10000.000000  10000.000000   10000.000000   10000.000000   \n",
              "mean     650.528800     38.921800      5.012800   76485.889288       1.530200   \n",
              "std       96.653299     10.487806      2.892174   62397.405202       0.581654   \n",
              "min      350.000000     18.000000      0.000000       0.000000       1.000000   \n",
              "25%      584.000000     32.000000      3.000000       0.000000       1.000000   \n",
              "50%      652.000000     37.000000      5.000000   97198.540000       1.000000   \n",
              "75%      718.000000     44.000000      7.000000  127644.240000       2.000000   \n",
              "max      850.000000     92.000000     10.000000  250898.090000       4.000000   \n",
              "\n",
              "         HasCrCard  IsActiveMember  EstimatedSalary        Exited  \n",
              "count  10000.00000    10000.000000     10000.000000  10000.000000  \n",
              "mean       0.70550        0.515100    100090.239881      0.203700  \n",
              "std        0.45584        0.499797     57510.492818      0.402769  \n",
              "min        0.00000        0.000000        11.580000      0.000000  \n",
              "25%        0.00000        0.000000     51002.110000      0.000000  \n",
              "50%        1.00000        1.000000    100193.915000      0.000000  \n",
              "75%        1.00000        1.000000    149388.247500      0.000000  \n",
              "max        1.00000        1.000000    199992.480000      1.000000  "
            ]
          },
          "execution_count": 9,
          "metadata": {},
          "output_type": "execute_result"
        }
      ],
      "source": [
        "churn.describe()"
      ]
    },
    {
      "cell_type": "markdown",
      "metadata": {
        "id": "Vh8i0rhuchSG"
      },
      "source": [
        "On note :\n",
        "- que le CreditScore va de 350 à 850 avec une ***moyenne d'environ 650***\n",
        "- que la clientèle couvre une tranche d'age assez grande (de 18 à 92 ans) et qu'on a une ***moyenne d'age d'environ 39 ans***\n",
        "- que l'ancienneté des clients est en ***moyenne de 5 ans***, même si on note que certains on une ancienneté inférieure a un an\n",
        "- que le solde va de 0 à 250898, la ***moyenne étant d'environ 62397***. À noter les clients avec un solde a 0 est a surveiller possiblement des clients qui vont vouloir nous quitter\n",
        "- que le nombre de produits détenu par client varie entre 1 et 4, la ***moyenne des clients détenant entre 1 et 2 produits***\n",
        "- que certains clients ne possèdent pas de carte de crédit\n",
        "- que ***51% des clients sont actifs***\n",
        "- que le salaire estimé des clients varie énomément (entre 11,58 et 199992,48)\n",
        "- que le ***churn est de 20%***"
      ]
    },
    {
      "cell_type": "code",
      "execution_count": 10,
      "metadata": {
        "colab": {
          "base_uri": "https://localhost:8080/",
          "height": 1000
        },
        "id": "pengD_MQchSG",
        "outputId": "ed8769ce-85f9-458f-88b7-80de08a25f7c"
      },
      "outputs": [
        {
          "data": {
            "image/png": "[encoded data removed]",
            "text/plain": [
              "<Figure size 800x400 with 1 Axes>"
            ]
          },
          "metadata": {},
          "output_type": "display_data"
        },
        {
          "data": {
            "image/png": "[encoded data removed]",
            "text/plain": [
              "<Figure size 800x400 with 1 Axes>"
            ]
          },
          "metadata": {},
          "output_type": "display_data"
        },
        {
          "data": {
            "image/png": "[encoded data removed]",
            "text/plain": [
              "<Figure size 800x400 with 1 Axes>"
            ]
          },
          "metadata": {},
          "output_type": "display_data"
        },
        {
          "data": {
            "image/png": "[encoded data removed]",
            "text/plain": [
              "<Figure size 800x400 with 1 Axes>"
            ]
          },
          "metadata": {},
          "output_type": "display_data"
        },
        {
          "data": {
            "image/png": "[encoded data removed]",
            "text/plain": [
              "<Figure size 800x400 with 1 Axes>"
            ]
          },
          "metadata": {},
          "output_type": "display_data"
        },
        {
          "data": {
            "image/png": "[encoded data removed]",
            "text/plain": [
              "<Figure size 800x400 with 1 Axes>"
            ]
          },
          "metadata": {},
          "output_type": "display_data"
        }
      ],
      "source": [
        "# Visualisation des variables numériques\n",
        "numeric_columns = ['CreditScore', 'Age', 'Tenure', 'Balance', 'NumOfProducts', 'EstimatedSalary']\n",
        "\n",
        "for col in numeric_columns:\n",
        "    plt.figure(figsize=(8, 4))\n",
        "    sns.histplot(data=churn, x=col, hue='Exited', multiple='stack', bins=30)\n",
        "    plt.title(f'Distribution of {col} by Churn')\n",
        "    plt.show()"
      ]
    },
    {
      "cell_type": "markdown",
      "metadata": {
        "id": "tlLhC2pKchSG"
      },
      "source": [
        "On note que :\n",
        "- Une part très importante du churn provient des comptes qui ne possedaient pas d'argent dessus (1er indicateur qu'on voit)\n",
        "- Une part très importante du churn provient des comptes qui ne possedaient qu'un produit (2e indicateur qu'on voit + parlant que le premier)\n",
        "- La répartition du churn par part de salaire estimé n'est pas très parlant car a peut près égale, pareil pour l'ancienneté"
      ]
    },
    {
      "cell_type": "code",
      "execution_count": 11,
      "metadata": {
        "colab": {
          "base_uri": "https://localhost:8080/",
          "height": 1000
        },
        "id": "FQH974ETchSG",
        "outputId": "4667d403-67a6-420f-b74b-c4e6d282107f"
      },
      "outputs": [
        {
          "data": {
            "image/png": "[encoded data removed]",
            "text/plain": [
              "<Figure size 800x400 with 1 Axes>"
            ]
          },
          "metadata": {},
          "output_type": "display_data"
        },
        {
          "data": {
            "image/png": "[encoded data removed]",
            "text/plain": [
              "<Figure size 800x400 with 1 Axes>"
            ]
          },
          "metadata": {},
          "output_type": "display_data"
        },
        {
          "data": {
            "image/png": "[encoded data removed]",
            "text/plain": [
              "<Figure size 800x400 with 1 Axes>"
            ]
          },
          "metadata": {},
          "output_type": "display_data"
        },
        {
          "data": {
            "image/png": "[encoded data removed]",
            "text/plain": [
              "<Figure size 800x400 with 1 Axes>"
            ]
          },
          "metadata": {},
          "output_type": "display_data"
        }
      ],
      "source": [
        "# Visualisation des variables catégorielles\n",
        "categorical_columns = ['Gender', 'Geography', 'HasCrCard', 'IsActiveMember']\n",
        "\n",
        "for col in categorical_columns:\n",
        "    plt.figure(figsize=(8, 4))\n",
        "    sns.countplot(data=churn, x=col, hue='Exited')\n",
        "    plt.title(f'{col} distribution by Churn')\n",
        "    plt.show()\n"
      ]
    },
    {
      "cell_type": "markdown",
      "metadata": {
        "id": "oKM34l6zchSH"
      },
      "source": [
        "commentaires..."
      ]
    },
    {
      "cell_type": "code",
      "execution_count": 12,
      "metadata": {
        "colab": {
          "base_uri": "https://localhost:8080/",
          "height": 181,
          "referenced_widgets": [
            "142be2ef87864a47b531dfe54da3e0b8",
            "15700dde347a42b0b7bde11e2dccb76d",
            "39e04a86c1d04c23a89cc12635a0ce9e",
            "1c893ba6074341e98762bd84e1dbe7ea",
            "b36885ab1a8d45be8c967380e9b7bbee",
            "6841a5e011b94c97a4186c86641f76e5",
            "33910f531dc346b2888686572c080122",
            "3899ee4cfebd46bd9e7d77963c019e40",
            "e01a1294dc5a41ae8ce00ba48e97c118",
            "bcd2d4173cab4b98a4821ebde9117320",
            "f51e8eb0fd7c4f7cadf11da3310fc47d",
            "bf804ec26b504a70b66147c8e98a4086",
            "413f2f3363544324b0cd294393a7f802",
            "abf802c197634f298b4840e3f1460c3a",
            "a80a1e3b92a04e24a11c8564258ac5f8",
            "3c6f375cb87048d59eacd75d91c27eb1",
            "7ecd7582334f45f5a437b7e2eff5dc2b",
            "64fbd2eb3ff14eafa5dfbdc08df6762e",
            "9bd2071a00094cf29b0bbf509e929b0b",
            "621fe13f3c624c26b41509ffefe2a3ae",
            "238e2e452b69422ab74be7276324d897",
            "68234f329c024f9999951097f39b45b7",
            "077cc540598d4fbd82ead5c11622416f",
            "6dc70e698d66453cb54285b3eec0ede1",
            "cc943c3c3a274010b7c01f592813b38d",
            "73db5e4563a546a9b172da8ba8fbb69b",
            "121f92c4cf034d1db940908b968cb3dd",
            "9c022c7f918148848637a89bb74f494d",
            "f6b9651c73bb4940b71641dd1fbbbc8b",
            "fe7b5710e2064e82b5e1cf62ef6f7efd",
            "aa8240f7ad5e4ccaa8ef5e10348a6a7f",
            "e4d3262b2bce41bc8a4b67c9cdae85a6",
            "272ab165b1a04fa9945d44292c3a0de8",
            "c956687579584f4e918dca9f0a8ac964",
            "d44cd586d01d44478a6d68ac60a3a20b",
            "4105fbc728a34e1890c3eee4545a60e7",
            "7313727977e246e7beb6a1871f087f02",
            "48bd0c7d548c482d867dc1a039378380",
            "26f3c11e83744e998cf67dd380685a8a",
            "b22c0e06b5e24f599aeafc27f6a1ec1c",
            "80905eac9c0844bd8ae78522a7a1554a",
            "28dec65d955b406892d828368cb4cf26",
            "c864f1e4b33447228da3b7190e592268",
            "c506f4277e1445b7a9d4e631bd017b76"
          ]
        },
        "id": "Gaw9x451chSH",
        "outputId": "3f2606bd-03a5-446e-b958-7bd58253d79f"
      },
      "outputs": [
        {
          "name": "stdout",
          "output_type": "stream",
          "text": [
            "Rapport de profilage existant supprimé\n"
          ]
        },
        {
          "name": "stderr",
          "output_type": "stream",
          "text": [
            "Summarize dataset: 100%|██████████| 45/45 [00:01<00:00, 25.42it/s, Completed]                               \n",
            "Generate report structure: 100%|██████████| 1/1 [00:01<00:00,  1.36s/it]\n",
            "Render HTML: 100%|██████████| 1/1 [00:00<00:00,  2.35it/s]\n",
            "Export report to file: 100%|██████████| 1/1 [00:00<00:00, 481.94it/s]"
          ]
        },
        {
          "name": "stdout",
          "output_type": "stream",
          "text": [
            "Rapport de profilage généré avec succès à l'emplacement : /Users/hadjirariad/churn_profile.html\n"
          ]
        },
        {
          "name": "stderr",
          "output_type": "stream",
          "text": [
            "\n"
          ]
        }
      ],
      "source": [
        "def exercise1(df: pd.DataFrame, output_path: Path) -> None:\n",
        "\n",
        "    ProfileReport(df).to_file(output_path)\n",
        "# Importation du fichier sur mon espace personnel (bug sinon)\n",
        "PROFILE_REPORT_PATH = Path(os.path.expanduser(\"~/churn_profile.html\"))\n",
        "# Suppression de l'ancien profil report\n",
        "if PROFILE_REPORT_PATH.exists():\n",
        "    PROFILE_REPORT_PATH.unlink(missing_ok=True)\n",
        "    print(\"Rapport de profilage existant supprimé\")\n",
        "\n",
        "exercise1(churn, PROFILE_REPORT_PATH)\n",
        "\n",
        "if not PROFILE_REPORT_PATH.exists():\n",
        "    raise Exception(f\"Le rapport de profilage n'a pas été généré à l'emplacement : {PROFILE_REPORT_PATH}\")\n",
        "\n",
        "print(f\"Rapport de profilage généré avec succès à l'emplacement : {PROFILE_REPORT_PATH}\")"
      ]
    },
    {
      "cell_type": "markdown",
      "metadata": {
        "id": "OOU3Adb0chSH"
      },
      "source": [
        "Nous avons généré un profiling report dans le but d'avoir une analyse plus approfondie du DataSet"
      ]
    },
    {
      "cell_type": "markdown",
      "metadata": {
        "id": "il_cPT35chSH"
      },
      "source": [
        "***Modélisation du modèle Baseline***"
      ]
    },
    {
      "cell_type": "code",
      "execution_count": 13,
      "metadata": {
        "colab": {
          "base_uri": "https://localhost:8080/",
          "height": 799
        },
        "id": "F3sauUb1chSH",
        "outputId": "ac4236bc-1651-484e-fa92-57104f33186c"
      },
      "outputs": [
        {
          "data": {
            "image/png": "[encoded data removed]",
            "text/plain": [
              "<Figure size 1000x800 with 2 Axes>"
            ]
          },
          "metadata": {},
          "output_type": "display_data"
        }
      ],
      "source": [
        "# Uniquement les colonnes numériques\n",
        "numeric_columns = churn.select_dtypes(include=[np.number])\n",
        "\n",
        "# Matrice de corrélation\n",
        "plt.figure(figsize=(10, 8))\n",
        "corr_matrix = numeric_columns.corr()\n",
        "sns.heatmap(corr_matrix, annot=True, cmap='coolwarm', fmt='.2f')\n",
        "plt.title('Correlation Matrix')\n",
        "plt.show()\n"
      ]
    },
    {
      "cell_type": "markdown",
      "metadata": {
        "id": "MVhED8tMchSH"
      },
      "source": [
        "On a rajouté cette étape car on n'arrivait pas a générer la matrice de corrélation avec les variables numériques et catégorielles en une seule fois"
      ]
    },
    {
      "cell_type": "code",
      "execution_count": 14,
      "metadata": {
        "colab": {
          "base_uri": "https://localhost:8080/",
          "height": 832
        },
        "id": "X_ewIJvCchSH",
        "outputId": "3c8ebf78-5d26-4228-b1f6-290657f78852"
      },
      "outputs": [
        {
          "data": {
            "image/png": "[encoded data removed]",
            "text/plain": [
              "<Figure size 1000x800 with 2 Axes>"
            ]
          },
          "metadata": {},
          "output_type": "display_data"
        }
      ],
      "source": [
        "# Encoder les variables catégorielles\n",
        "from sklearn.preprocessing import LabelEncoder\n",
        "\n",
        "# Label encoding pour Gender et Geography\n",
        "churn['Gender'] = LabelEncoder().fit_transform(churn['Gender'])\n",
        "churn = pd.get_dummies(churn, columns=['Geography'], drop_first=True)\n",
        "\n",
        "# Recalcule de la matrice de corrélation avec les variables catégorielles inclus\n",
        "plt.figure(figsize=(10, 8))\n",
        "corr_matrix = churn.corr()\n",
        "sns.heatmap(corr_matrix, annot=True, cmap='coolwarm', fmt='.2f')\n",
        "plt.title('Correlation Matrix')\n",
        "plt.show()\n"
      ]
    },
    {
      "cell_type": "markdown",
      "metadata": {
        "id": "MaDOZ8KkchSH"
      },
      "source": [
        "On peut voir que :\n",
        "\n",
        "- La corrélation entre <u>l'âge</u> et <u>Exited</u> est de ***0.29***, ce qui suggère que l'âge a une certaine importance pour prédire le churn. Les clients plus âgés pourraient être plus susceptibles de quitter le service.\n",
        "- La corrélation entre <u>IsActiveMember</u> et <u>Exited</u> est négative (***-0.16***), ce qui indique que les membres actifs sont moins susceptibles de quitter.\n",
        "- Une corrélation positive de ***0.12*** entre le solde (<u>Balance</u>) et le <u>churn</u>. Cela pourrait signifier que les clients avec des soldes élevés peuvent avoir un risque légèrement plus élevé de churn.\n",
        "- Il y a une corrélation négative de ***-0.11*** entre <u>Gender</u> et <u>Exited</u>, ce qui suggère que le genre peut avoir un impact sur le churn, avec peut-être un groupe plus à risque de churn.\n",
        "- <u>Geography_Germany</u> a une corrélation positive de ***0.17*** avec le <u>churn</u>. Cela pourrait indiquer que les clients en Allemagne sont plus susceptibles de churn que dans les autres pays.\n",
        "- <u>Geography_Spain</u> a une corrélation négative de ***-0.05*** avec le <u>churn</u>, ce qui pourrait signifier que les clients en Espagne sont légèrement moins susceptibles de quitter.\n",
        "\n",
        "- Il y a une corrélation assez forte (***0.40***) entre <u>Balance</u> et <u>Geography_Germany</u>, ce qui pourrait signifier que les clients allemands ont tendance à avoir des soldes plus élevés.\n",
        "- La plupart des autres variables, comme CreditScore, Tenure, NumOfProducts, ont des corrélations très faibles avec Exited, ce qui signifie qu'elles pourraient ne pas avoir un fort impact direct sur le churn."
      ]
    },
    {
      "cell_type": "markdown",
      "metadata": {
        "id": "81TvMZUMchSH"
      },
      "source": [
        "Après relecture nous voyons surtout qu'il n'y a pas de très fort lien de corrélation entre les différentes variables et le churn ce qui expliquer le fait que le modèle de prédiction LogisticRegression que nous avions choisi au départ n'était pas adapté"
      ]
    },
    {
      "cell_type": "code",
      "execution_count": 15,
      "metadata": {
        "id": "aHfRewBSchSH"
      },
      "outputs": [],
      "source": [
        "# Séparer les features et la variable cible\n",
        "X = churn.drop(columns=['Exited'])\n",
        "y = churn['Exited']\n",
        "\n",
        "# Séparer en ensembles d'entraînement et de test\n",
        "X_train, X_test, y_train, y_test = train_test_split(X, y, test_size=0.2, random_state=42)"
      ]
    },
    {
      "cell_type": "code",
      "execution_count": 16,
      "metadata": {
        "colab": {
          "base_uri": "https://localhost:8080/"
        },
        "id": "mwxHShEachSH",
        "outputId": "f01d395b-d52e-43cf-cd37-43b36f3ad286"
      },
      "outputs": [
        {
          "name": "stdout",
          "output_type": "stream",
          "text": [
            "Accuracy: 0.815\n",
            "              precision    recall  f1-score   support\n",
            "\n",
            "           0       0.83      0.96      0.89      1607\n",
            "           1       0.58      0.21      0.31       393\n",
            "\n",
            "    accuracy                           0.81      2000\n",
            "   macro avg       0.71      0.59      0.60      2000\n",
            "weighted avg       0.78      0.81      0.78      2000\n",
            "\n"
          ]
        },
        {
          "name": "stderr",
          "output_type": "stream",
          "text": [
            "/opt/anaconda3/envs/mlenv/lib/python3.10/site-packages/sklearn/linear_model/_logistic.py:469: ConvergenceWarning: lbfgs failed to converge (status=1):\n",
            "STOP: TOTAL NO. of ITERATIONS REACHED LIMIT.\n",
            "\n",
            "Increase the number of iterations (max_iter) or scale the data as shown in:\n",
            "    https://scikit-learn.org/stable/modules/preprocessing.html\n",
            "Please also refer to the documentation for alternative solver options:\n",
            "    https://scikit-learn.org/stable/modules/linear_model.html#logistic-regression\n",
            "  n_iter_i = _check_optimize_result(\n"
          ]
        }
      ],
      "source": [
        "# Créer et entraîner le modèle\n",
        "logreg = LogisticRegression(max_iter=1000)\n",
        "logreg.fit(X_train, y_train)\n",
        "\n",
        "# Prédire sur l'ensemble de test\n",
        "y_pred = logreg.predict(X_test)\n",
        "\n",
        "# Afficher les performances du modèle\n",
        "print(\"Accuracy:\", accuracy_score(y_test, y_pred))\n",
        "print(classification_report(y_test, y_pred))"
      ]
    },
    {
      "cell_type": "code",
      "execution_count": 17,
      "metadata": {
        "colab": {
          "base_uri": "https://localhost:8080/"
        },
        "id": "U8jrPrkxfZ80",
        "outputId": "626c443f-5bf0-4f81-c3ae-38b58e8f8067"
      },
      "outputs": [
        {
          "name": "stderr",
          "output_type": "stream",
          "text": [
            "/opt/anaconda3/envs/mlenv/lib/python3.10/site-packages/sklearn/linear_model/_logistic.py:469: ConvergenceWarning: lbfgs failed to converge (status=1):\n",
            "STOP: TOTAL NO. of ITERATIONS REACHED LIMIT.\n",
            "\n",
            "Increase the number of iterations (max_iter) or scale the data as shown in:\n",
            "    https://scikit-learn.org/stable/modules/preprocessing.html\n",
            "Please also refer to the documentation for alternative solver options:\n",
            "    https://scikit-learn.org/stable/modules/linear_model.html#logistic-regression\n",
            "  n_iter_i = _check_optimize_result(\n",
            "/opt/anaconda3/envs/mlenv/lib/python3.10/site-packages/sklearn/linear_model/_logistic.py:469: ConvergenceWarning: lbfgs failed to converge (status=1):\n",
            "STOP: TOTAL NO. of ITERATIONS REACHED LIMIT.\n",
            "\n",
            "Increase the number of iterations (max_iter) or scale the data as shown in:\n",
            "    https://scikit-learn.org/stable/modules/preprocessing.html\n",
            "Please also refer to the documentation for alternative solver options:\n",
            "    https://scikit-learn.org/stable/modules/linear_model.html#logistic-regression\n",
            "  n_iter_i = _check_optimize_result(\n"
          ]
        },
        {
          "name": "stdout",
          "output_type": "stream",
          "text": [
            "log reg: 31.501388\n"
          ]
        },
        {
          "name": "stderr",
          "output_type": "stream",
          "text": [
            "/opt/anaconda3/envs/mlenv/lib/python3.10/site-packages/sklearn/linear_model/_logistic.py:469: ConvergenceWarning: lbfgs failed to converge (status=1):\n",
            "STOP: TOTAL NO. of ITERATIONS REACHED LIMIT.\n",
            "\n",
            "Increase the number of iterations (max_iter) or scale the data as shown in:\n",
            "    https://scikit-learn.org/stable/modules/preprocessing.html\n",
            "Please also refer to the documentation for alternative solver options:\n",
            "    https://scikit-learn.org/stable/modules/linear_model.html#logistic-regression\n",
            "  n_iter_i = _check_optimize_result(\n",
            "/opt/anaconda3/envs/mlenv/lib/python3.10/site-packages/sklearn/linear_model/_logistic.py:469: ConvergenceWarning: lbfgs failed to converge (status=1):\n",
            "STOP: TOTAL NO. of ITERATIONS REACHED LIMIT.\n",
            "\n",
            "Increase the number of iterations (max_iter) or scale the data as shown in:\n",
            "    https://scikit-learn.org/stable/modules/preprocessing.html\n",
            "Please also refer to the documentation for alternative solver options:\n",
            "    https://scikit-learn.org/stable/modules/linear_model.html#logistic-regression\n",
            "  n_iter_i = _check_optimize_result(\n"
          ]
        }
      ],
      "source": [
        "# cross validation logreg model\n",
        "cv_results_acc = []\n",
        "cv_score = cross_val_score(logreg, X_train, y_train, scoring = \"f1\", cv = 4)\n",
        "cv_results_acc.append(cv_score.mean()*100)\n",
        "print(\"%s: %f\" % ('log reg', cv_score.mean()*100))"
      ]
    },
    {
      "cell_type": "markdown",
      "metadata": {
        "id": "j9yBTTxdchSH"
      },
      "source": [
        "- Accuracy : 0.815 (81.5%) : Cela signifie que ton modèle prédit correctement 81.5 % des cas. L'accuracy seule peut être trompeuse, surtout en présence de classes déséquilibrées (ici, 0 vs 1).\n",
        "            Analyse des clients qui ne churnent pas (0) :\n",
        "\n",
        "- Precision : 0.83 : Parmi tous les clients que ton modèle a prédits comme ne churnant pas, 83 % étaient corrects.\n",
        "- Recall : 0.96 : Ton modèle a capturé 96 % des clients qui n'ont effectivement pas churné.\n",
        "- F1-score : 0.89 : Le F1-score est élevé, ce qui signifie que ton modèle gère bien cette classe.\n",
        "            Analyse des clients qui churnent (1) :\n",
        "\n",
        "- Precision  : 0.58 : Parmi tous les clients prédits comme churnant, seulement 58 % étaient corrects. Cela signifie que ton modèle a un taux de faux positifs relativement élevé pour cette classe.\n",
        "- Recall : 0.21 : C'est assez faible. Cela signifie que ton modèle n'arrive pas à capturer correctement les clients qui churnent. Il en rate beaucoup.\n",
        "- F1-score : 0.31 : Cela montre que le modèle peine à prédire correctement cette classe.\n",
        "\n",
        "- Macro avg : Moyenne non pondérée des scores des deux classes. Ici, tu vois que le rappel global est faible (0.59), indiquant un problème avec la classe minoritaire.\n",
        "- Weighted avg : Moyenne pondérée en fonction du nombre de cas dans chaque classe. Elle est plus proche des scores de la classe majoritaire car la majorité des clients ne churnent pas.\n",
        "\n",
        "Le modèle est biaisé vers la classe majoritaire (les clients qui ne churnent pas). Il a donc du mal à identifier les clients churners\n",
        "\n"
      ]
    },
    {
      "cell_type": "code",
      "execution_count": 18,
      "metadata": {
        "colab": {
          "base_uri": "https://localhost:8080/"
        },
        "id": "DqPFBZ4QchSH",
        "outputId": "f136e8f5-92ee-40b8-9545-306ae340cb00"
      },
      "outputs": [
        {
          "name": "stdout",
          "output_type": "stream",
          "text": [
            "Accuracy: 0.811\n",
            "              precision    recall  f1-score   support\n",
            "\n",
            "           0       0.83      0.96      0.89      1607\n",
            "           1       0.55      0.22      0.31       393\n",
            "\n",
            "    accuracy                           0.81      2000\n",
            "   macro avg       0.69      0.59      0.60      2000\n",
            "weighted avg       0.78      0.81      0.78      2000\n",
            "\n"
          ]
        },
        {
          "name": "stderr",
          "output_type": "stream",
          "text": [
            "/opt/anaconda3/envs/mlenv/lib/python3.10/site-packages/sklearn/linear_model/_logistic.py:469: ConvergenceWarning: lbfgs failed to converge (status=1):\n",
            "STOP: TOTAL NO. of ITERATIONS REACHED LIMIT.\n",
            "\n",
            "Increase the number of iterations (max_iter) or scale the data as shown in:\n",
            "    https://scikit-learn.org/stable/modules/preprocessing.html\n",
            "Please also refer to the documentation for alternative solver options:\n",
            "    https://scikit-learn.org/stable/modules/linear_model.html#logistic-regression\n",
            "  n_iter_i = _check_optimize_result(\n"
          ]
        }
      ],
      "source": [
        "# Augmenter le nombre d'itération de 1000 à 3000\n",
        "logreg = LogisticRegression(max_iter=3000)\n",
        "logreg.fit(X_train, y_train)\n",
        "\n",
        "# Prédire sur l'ensemble de test\n",
        "y_pred = logreg.predict(X_test)\n",
        "\n",
        "# Afficher les performances du modèle\n",
        "print(\"Accuracy:\", accuracy_score(y_test, y_pred))\n",
        "print(classification_report(y_test, y_pred))"
      ]
    },
    {
      "cell_type": "code",
      "execution_count": 19,
      "metadata": {
        "colab": {
          "base_uri": "https://localhost:8080/",
          "height": 444
        },
        "id": "oW880U5JntOA",
        "outputId": "c15791a7-7ffd-4218-ddb5-b5366fd03b8a"
      },
      "outputs": [
        {
          "data": {
            "text/html": [
              "<div>\n",
              "<style scoped>\n",
              "    .dataframe tbody tr th:only-of-type {\n",
              "        vertical-align: middle;\n",
              "    }\n",
              "\n",
              "    .dataframe tbody tr th {\n",
              "        vertical-align: top;\n",
              "    }\n",
              "\n",
              "    .dataframe thead th {\n",
              "        text-align: right;\n",
              "    }\n",
              "</style>\n",
              "<table border=\"1\" class=\"dataframe\">\n",
              "  <thead>\n",
              "    <tr style=\"text-align: right;\">\n",
              "      <th></th>\n",
              "      <th>CreditScore</th>\n",
              "      <th>Gender</th>\n",
              "      <th>Age</th>\n",
              "      <th>Tenure</th>\n",
              "      <th>Balance</th>\n",
              "      <th>NumOfProducts</th>\n",
              "      <th>HasCrCard</th>\n",
              "      <th>IsActiveMember</th>\n",
              "      <th>EstimatedSalary</th>\n",
              "      <th>Geography_Germany</th>\n",
              "      <th>Geography_Spain</th>\n",
              "    </tr>\n",
              "  </thead>\n",
              "  <tbody>\n",
              "    <tr>\n",
              "      <th>9254</th>\n",
              "      <td>686</td>\n",
              "      <td>1</td>\n",
              "      <td>32</td>\n",
              "      <td>6</td>\n",
              "      <td>0.00</td>\n",
              "      <td>2</td>\n",
              "      <td>1</td>\n",
              "      <td>1</td>\n",
              "      <td>179093.26</td>\n",
              "      <td>False</td>\n",
              "      <td>False</td>\n",
              "    </tr>\n",
              "    <tr>\n",
              "      <th>1561</th>\n",
              "      <td>632</td>\n",
              "      <td>1</td>\n",
              "      <td>42</td>\n",
              "      <td>4</td>\n",
              "      <td>119624.60</td>\n",
              "      <td>2</td>\n",
              "      <td>1</td>\n",
              "      <td>1</td>\n",
              "      <td>195978.86</td>\n",
              "      <td>True</td>\n",
              "      <td>False</td>\n",
              "    </tr>\n",
              "    <tr>\n",
              "      <th>1670</th>\n",
              "      <td>559</td>\n",
              "      <td>1</td>\n",
              "      <td>24</td>\n",
              "      <td>3</td>\n",
              "      <td>114739.92</td>\n",
              "      <td>1</td>\n",
              "      <td>1</td>\n",
              "      <td>0</td>\n",
              "      <td>85891.02</td>\n",
              "      <td>False</td>\n",
              "      <td>True</td>\n",
              "    </tr>\n",
              "    <tr>\n",
              "      <th>6087</th>\n",
              "      <td>561</td>\n",
              "      <td>0</td>\n",
              "      <td>27</td>\n",
              "      <td>9</td>\n",
              "      <td>135637.00</td>\n",
              "      <td>1</td>\n",
              "      <td>1</td>\n",
              "      <td>0</td>\n",
              "      <td>153080.40</td>\n",
              "      <td>False</td>\n",
              "      <td>False</td>\n",
              "    </tr>\n",
              "    <tr>\n",
              "      <th>6669</th>\n",
              "      <td>517</td>\n",
              "      <td>1</td>\n",
              "      <td>56</td>\n",
              "      <td>9</td>\n",
              "      <td>142147.32</td>\n",
              "      <td>1</td>\n",
              "      <td>0</td>\n",
              "      <td>0</td>\n",
              "      <td>39488.04</td>\n",
              "      <td>False</td>\n",
              "      <td>False</td>\n",
              "    </tr>\n",
              "    <tr>\n",
              "      <th>...</th>\n",
              "      <td>...</td>\n",
              "      <td>...</td>\n",
              "      <td>...</td>\n",
              "      <td>...</td>\n",
              "      <td>...</td>\n",
              "      <td>...</td>\n",
              "      <td>...</td>\n",
              "      <td>...</td>\n",
              "      <td>...</td>\n",
              "      <td>...</td>\n",
              "      <td>...</td>\n",
              "    </tr>\n",
              "    <tr>\n",
              "      <th>5734</th>\n",
              "      <td>768</td>\n",
              "      <td>1</td>\n",
              "      <td>54</td>\n",
              "      <td>8</td>\n",
              "      <td>69712.74</td>\n",
              "      <td>1</td>\n",
              "      <td>1</td>\n",
              "      <td>1</td>\n",
              "      <td>69381.05</td>\n",
              "      <td>False</td>\n",
              "      <td>False</td>\n",
              "    </tr>\n",
              "    <tr>\n",
              "      <th>5191</th>\n",
              "      <td>682</td>\n",
              "      <td>0</td>\n",
              "      <td>58</td>\n",
              "      <td>1</td>\n",
              "      <td>0.00</td>\n",
              "      <td>1</td>\n",
              "      <td>1</td>\n",
              "      <td>1</td>\n",
              "      <td>706.50</td>\n",
              "      <td>False</td>\n",
              "      <td>False</td>\n",
              "    </tr>\n",
              "    <tr>\n",
              "      <th>5390</th>\n",
              "      <td>735</td>\n",
              "      <td>0</td>\n",
              "      <td>38</td>\n",
              "      <td>1</td>\n",
              "      <td>0.00</td>\n",
              "      <td>3</td>\n",
              "      <td>0</td>\n",
              "      <td>0</td>\n",
              "      <td>92220.12</td>\n",
              "      <td>False</td>\n",
              "      <td>False</td>\n",
              "    </tr>\n",
              "    <tr>\n",
              "      <th>860</th>\n",
              "      <td>667</td>\n",
              "      <td>1</td>\n",
              "      <td>43</td>\n",
              "      <td>8</td>\n",
              "      <td>190227.46</td>\n",
              "      <td>1</td>\n",
              "      <td>1</td>\n",
              "      <td>0</td>\n",
              "      <td>97508.04</td>\n",
              "      <td>False</td>\n",
              "      <td>False</td>\n",
              "    </tr>\n",
              "    <tr>\n",
              "      <th>7270</th>\n",
              "      <td>697</td>\n",
              "      <td>1</td>\n",
              "      <td>51</td>\n",
              "      <td>1</td>\n",
              "      <td>147910.30</td>\n",
              "      <td>1</td>\n",
              "      <td>1</td>\n",
              "      <td>1</td>\n",
              "      <td>53581.14</td>\n",
              "      <td>True</td>\n",
              "      <td>False</td>\n",
              "    </tr>\n",
              "  </tbody>\n",
              "</table>\n",
              "<p>8000 rows × 11 columns</p>\n",
              "</div>"
            ],
            "text/plain": [
              "      CreditScore  Gender  Age  Tenure    Balance  NumOfProducts  HasCrCard  \\\n",
              "9254          686       1   32       6       0.00              2          1   \n",
              "1561          632       1   42       4  119624.60              2          1   \n",
              "1670          559       1   24       3  114739.92              1          1   \n",
              "6087          561       0   27       9  135637.00              1          1   \n",
              "6669          517       1   56       9  142147.32              1          0   \n",
              "...           ...     ...  ...     ...        ...            ...        ...   \n",
              "5734          768       1   54       8   69712.74              1          1   \n",
              "5191          682       0   58       1       0.00              1          1   \n",
              "5390          735       0   38       1       0.00              3          0   \n",
              "860           667       1   43       8  190227.46              1          1   \n",
              "7270          697       1   51       1  147910.30              1          1   \n",
              "\n",
              "      IsActiveMember  EstimatedSalary  Geography_Germany  Geography_Spain  \n",
              "9254               1        179093.26              False            False  \n",
              "1561               1        195978.86               True            False  \n",
              "1670               0         85891.02              False             True  \n",
              "6087               0        153080.40              False            False  \n",
              "6669               0         39488.04              False            False  \n",
              "...              ...              ...                ...              ...  \n",
              "5734               1         69381.05              False            False  \n",
              "5191               1           706.50              False            False  \n",
              "5390               0         92220.12              False            False  \n",
              "860                0         97508.04              False            False  \n",
              "7270               1         53581.14               True            False  \n",
              "\n",
              "[8000 rows x 11 columns]"
            ]
          },
          "execution_count": 19,
          "metadata": {},
          "output_type": "execute_result"
        }
      ],
      "source": [
        "X_train"
      ]
    },
    {
      "cell_type": "code",
      "execution_count": 20,
      "metadata": {
        "colab": {
          "base_uri": "https://localhost:8080/"
        },
        "id": "tBAGe03xchSH",
        "outputId": "d54fa680-78be-4b91-982b-323e1f87413d"
      },
      "outputs": [
        {
          "name": "stdout",
          "output_type": "stream",
          "text": [
            "Accuracy: 0.8145\n",
            "              precision    recall  f1-score   support\n",
            "\n",
            "           0       0.83      0.96      0.89      1607\n",
            "           1       0.57      0.22      0.31       393\n",
            "\n",
            "    accuracy                           0.81      2000\n",
            "   macro avg       0.70      0.59      0.60      2000\n",
            "weighted avg       0.78      0.81      0.78      2000\n",
            "\n"
          ]
        },
        {
          "name": "stderr",
          "output_type": "stream",
          "text": [
            "/opt/anaconda3/envs/mlenv/lib/python3.10/site-packages/sklearn/linear_model/_logistic.py:469: ConvergenceWarning: lbfgs failed to converge (status=1):\n",
            "STOP: TOTAL NO. of ITERATIONS REACHED LIMIT.\n",
            "\n",
            "Increase the number of iterations (max_iter) or scale the data as shown in:\n",
            "    https://scikit-learn.org/stable/modules/preprocessing.html\n",
            "Please also refer to the documentation for alternative solver options:\n",
            "    https://scikit-learn.org/stable/modules/linear_model.html#logistic-regression\n",
            "  n_iter_i = _check_optimize_result(\n"
          ]
        }
      ],
      "source": [
        "# Augmenter le nombre d'itération de 3000 à 5000\n",
        "logreg = LogisticRegression(max_iter=5000)\n",
        "logreg.fit(X_train, y_train)\n",
        "\n",
        "# Prédire sur l'ensemble de test\n",
        "y_pred = logreg.predict(X_test)\n",
        "\n",
        "# Afficher les performances du modèle\n",
        "print(\"Accuracy:\", accuracy_score(y_test, y_pred))\n",
        "print(classification_report(y_test, y_pred))"
      ]
    },
    {
      "cell_type": "markdown",
      "metadata": {
        "id": "JwKd9TSgchSH"
      },
      "source": [
        "Dans notre cas on a un déséquilibre entre les classes (la classe 0 est surreprésenté), le modèle de regression logistique se retrouve donc a sous performer\n",
        "On va tenter de changer et d'aller vers un RandomForest pour voir si le modèle est plus performant ou non"
      ]
    },
    {
      "cell_type": "code",
      "execution_count": 21,
      "metadata": {
        "colab": {
          "base_uri": "https://localhost:8080/",
          "height": 444
        },
        "id": "3ZFLdupnchSH",
        "outputId": "16735857-21f6-4e4d-b311-1e03d37813d2"
      },
      "outputs": [
        {
          "data": {
            "text/html": [
              "<div>\n",
              "<style scoped>\n",
              "    .dataframe tbody tr th:only-of-type {\n",
              "        vertical-align: middle;\n",
              "    }\n",
              "\n",
              "    .dataframe tbody tr th {\n",
              "        vertical-align: top;\n",
              "    }\n",
              "\n",
              "    .dataframe thead th {\n",
              "        text-align: right;\n",
              "    }\n",
              "</style>\n",
              "<table border=\"1\" class=\"dataframe\">\n",
              "  <thead>\n",
              "    <tr style=\"text-align: right;\">\n",
              "      <th></th>\n",
              "      <th>CreditScore</th>\n",
              "      <th>Gender</th>\n",
              "      <th>Age</th>\n",
              "      <th>Tenure</th>\n",
              "      <th>Balance</th>\n",
              "      <th>NumOfProducts</th>\n",
              "      <th>HasCrCard</th>\n",
              "      <th>IsActiveMember</th>\n",
              "      <th>EstimatedSalary</th>\n",
              "      <th>Exited</th>\n",
              "      <th>Geography_Germany</th>\n",
              "      <th>Geography_Spain</th>\n",
              "    </tr>\n",
              "  </thead>\n",
              "  <tbody>\n",
              "    <tr>\n",
              "      <th>0</th>\n",
              "      <td>619</td>\n",
              "      <td>0</td>\n",
              "      <td>42</td>\n",
              "      <td>2</td>\n",
              "      <td>0.00</td>\n",
              "      <td>1</td>\n",
              "      <td>1</td>\n",
              "      <td>1</td>\n",
              "      <td>101348.88</td>\n",
              "      <td>1</td>\n",
              "      <td>False</td>\n",
              "      <td>False</td>\n",
              "    </tr>\n",
              "    <tr>\n",
              "      <th>1</th>\n",
              "      <td>608</td>\n",
              "      <td>0</td>\n",
              "      <td>41</td>\n",
              "      <td>1</td>\n",
              "      <td>83807.86</td>\n",
              "      <td>1</td>\n",
              "      <td>0</td>\n",
              "      <td>1</td>\n",
              "      <td>112542.58</td>\n",
              "      <td>0</td>\n",
              "      <td>False</td>\n",
              "      <td>True</td>\n",
              "    </tr>\n",
              "    <tr>\n",
              "      <th>2</th>\n",
              "      <td>502</td>\n",
              "      <td>0</td>\n",
              "      <td>42</td>\n",
              "      <td>8</td>\n",
              "      <td>159660.80</td>\n",
              "      <td>3</td>\n",
              "      <td>1</td>\n",
              "      <td>0</td>\n",
              "      <td>113931.57</td>\n",
              "      <td>1</td>\n",
              "      <td>False</td>\n",
              "      <td>False</td>\n",
              "    </tr>\n",
              "    <tr>\n",
              "      <th>3</th>\n",
              "      <td>699</td>\n",
              "      <td>0</td>\n",
              "      <td>39</td>\n",
              "      <td>1</td>\n",
              "      <td>0.00</td>\n",
              "      <td>2</td>\n",
              "      <td>0</td>\n",
              "      <td>0</td>\n",
              "      <td>93826.63</td>\n",
              "      <td>0</td>\n",
              "      <td>False</td>\n",
              "      <td>False</td>\n",
              "    </tr>\n",
              "    <tr>\n",
              "      <th>4</th>\n",
              "      <td>850</td>\n",
              "      <td>0</td>\n",
              "      <td>43</td>\n",
              "      <td>2</td>\n",
              "      <td>125510.82</td>\n",
              "      <td>1</td>\n",
              "      <td>1</td>\n",
              "      <td>1</td>\n",
              "      <td>79084.10</td>\n",
              "      <td>0</td>\n",
              "      <td>False</td>\n",
              "      <td>True</td>\n",
              "    </tr>\n",
              "    <tr>\n",
              "      <th>...</th>\n",
              "      <td>...</td>\n",
              "      <td>...</td>\n",
              "      <td>...</td>\n",
              "      <td>...</td>\n",
              "      <td>...</td>\n",
              "      <td>...</td>\n",
              "      <td>...</td>\n",
              "      <td>...</td>\n",
              "      <td>...</td>\n",
              "      <td>...</td>\n",
              "      <td>...</td>\n",
              "      <td>...</td>\n",
              "    </tr>\n",
              "    <tr>\n",
              "      <th>9995</th>\n",
              "      <td>771</td>\n",
              "      <td>1</td>\n",
              "      <td>39</td>\n",
              "      <td>5</td>\n",
              "      <td>0.00</td>\n",
              "      <td>2</td>\n",
              "      <td>1</td>\n",
              "      <td>0</td>\n",
              "      <td>96270.64</td>\n",
              "      <td>0</td>\n",
              "      <td>False</td>\n",
              "      <td>False</td>\n",
              "    </tr>\n",
              "    <tr>\n",
              "      <th>9996</th>\n",
              "      <td>516</td>\n",
              "      <td>1</td>\n",
              "      <td>35</td>\n",
              "      <td>10</td>\n",
              "      <td>57369.61</td>\n",
              "      <td>1</td>\n",
              "      <td>1</td>\n",
              "      <td>1</td>\n",
              "      <td>101699.77</td>\n",
              "      <td>0</td>\n",
              "      <td>False</td>\n",
              "      <td>False</td>\n",
              "    </tr>\n",
              "    <tr>\n",
              "      <th>9997</th>\n",
              "      <td>709</td>\n",
              "      <td>0</td>\n",
              "      <td>36</td>\n",
              "      <td>7</td>\n",
              "      <td>0.00</td>\n",
              "      <td>1</td>\n",
              "      <td>0</td>\n",
              "      <td>1</td>\n",
              "      <td>42085.58</td>\n",
              "      <td>1</td>\n",
              "      <td>False</td>\n",
              "      <td>False</td>\n",
              "    </tr>\n",
              "    <tr>\n",
              "      <th>9998</th>\n",
              "      <td>772</td>\n",
              "      <td>1</td>\n",
              "      <td>42</td>\n",
              "      <td>3</td>\n",
              "      <td>75075.31</td>\n",
              "      <td>2</td>\n",
              "      <td>1</td>\n",
              "      <td>0</td>\n",
              "      <td>92888.52</td>\n",
              "      <td>1</td>\n",
              "      <td>True</td>\n",
              "      <td>False</td>\n",
              "    </tr>\n",
              "    <tr>\n",
              "      <th>9999</th>\n",
              "      <td>792</td>\n",
              "      <td>0</td>\n",
              "      <td>28</td>\n",
              "      <td>4</td>\n",
              "      <td>130142.79</td>\n",
              "      <td>1</td>\n",
              "      <td>1</td>\n",
              "      <td>0</td>\n",
              "      <td>38190.78</td>\n",
              "      <td>0</td>\n",
              "      <td>False</td>\n",
              "      <td>False</td>\n",
              "    </tr>\n",
              "  </tbody>\n",
              "</table>\n",
              "<p>10000 rows × 12 columns</p>\n",
              "</div>"
            ],
            "text/plain": [
              "      CreditScore  Gender  Age  Tenure    Balance  NumOfProducts  HasCrCard  \\\n",
              "0             619       0   42       2       0.00              1          1   \n",
              "1             608       0   41       1   83807.86              1          0   \n",
              "2             502       0   42       8  159660.80              3          1   \n",
              "3             699       0   39       1       0.00              2          0   \n",
              "4             850       0   43       2  125510.82              1          1   \n",
              "...           ...     ...  ...     ...        ...            ...        ...   \n",
              "9995          771       1   39       5       0.00              2          1   \n",
              "9996          516       1   35      10   57369.61              1          1   \n",
              "9997          709       0   36       7       0.00              1          0   \n",
              "9998          772       1   42       3   75075.31              2          1   \n",
              "9999          792       0   28       4  130142.79              1          1   \n",
              "\n",
              "      IsActiveMember  EstimatedSalary  Exited  Geography_Germany  \\\n",
              "0                  1        101348.88       1              False   \n",
              "1                  1        112542.58       0              False   \n",
              "2                  0        113931.57       1              False   \n",
              "3                  0         93826.63       0              False   \n",
              "4                  1         79084.10       0              False   \n",
              "...              ...              ...     ...                ...   \n",
              "9995               0         96270.64       0              False   \n",
              "9996               1        101699.77       0              False   \n",
              "9997               1         42085.58       1              False   \n",
              "9998               0         92888.52       1               True   \n",
              "9999               0         38190.78       0              False   \n",
              "\n",
              "      Geography_Spain  \n",
              "0               False  \n",
              "1                True  \n",
              "2               False  \n",
              "3               False  \n",
              "4                True  \n",
              "...               ...  \n",
              "9995            False  \n",
              "9996            False  \n",
              "9997            False  \n",
              "9998            False  \n",
              "9999            False  \n",
              "\n",
              "[10000 rows x 12 columns]"
            ]
          },
          "execution_count": 21,
          "metadata": {},
          "output_type": "execute_result"
        }
      ],
      "source": [
        "churn\n",
        "# On affiche le DataSet pour vérifier qu'on a pas effectuer de transformation"
      ]
    },
    {
      "cell_type": "code",
      "execution_count": 22,
      "metadata": {
        "id": "1Z_zsCqIchSH"
      },
      "outputs": [],
      "source": [
        "model = RandomForestClassifier(n_estimators=100, random_state=42)\n",
        "model.fit(X_train, y_train)\n",
        "y_pred = model.predict(X_test)"
      ]
    },
    {
      "cell_type": "code",
      "execution_count": 23,
      "metadata": {
        "id": "HPmbp2mjhC22"
      },
      "outputs": [],
      "source": [
        "with open(\"random_forest_model.pkl\", \"wb\") as f:\n",
        "    pickle.dump(model, f)"
      ]
    },
    {
      "cell_type": "code",
      "execution_count": 24,
      "metadata": {
        "colab": {
          "base_uri": "https://localhost:8080/"
        },
        "id": "WXqtKvrYg4B4",
        "outputId": "71f50c2b-9132-4cb1-9ecb-15bb1403893d"
      },
      "outputs": [
        {
          "name": "stdout",
          "output_type": "stream",
          "text": [
            "random forest: 57.706064\n"
          ]
        }
      ],
      "source": [
        "# cross validation random forest\n",
        "cv_results_acc = []\n",
        "cv_score = cross_val_score(model, X_train, y_train, scoring = \"f1\", cv = 4)\n",
        "cv_results_acc.append(cv_score.mean()*100)\n",
        "print(\"%s: %f\" % ('random forest', cv_score.mean()*100))"
      ]
    },
    {
      "cell_type": "code",
      "execution_count": 25,
      "metadata": {
        "colab": {
          "base_uri": "https://localhost:8080/",
          "height": 651
        },
        "id": "kMMy2hGNchSH",
        "outputId": "15ff5849-b817-4c99-bd04-05483a2d43eb"
      },
      "outputs": [
        {
          "name": "stdout",
          "output_type": "stream",
          "text": [
            "Accuracy: 0.867\n",
            "              precision    recall  f1-score   support\n",
            "\n",
            "           0       0.88      0.96      0.92      1607\n",
            "           1       0.76      0.47      0.58       393\n",
            "\n",
            "    accuracy                           0.87      2000\n",
            "   macro avg       0.82      0.72      0.75      2000\n",
            "weighted avg       0.86      0.87      0.85      2000\n",
            "\n"
          ]
        },
        {
          "data": {
            "image/png": "[encoded data removed]",
            "text/plain": [
              "<Figure size 640x480 with 2 Axes>"
            ]
          },
          "metadata": {},
          "output_type": "display_data"
        }
      ],
      "source": [
        "# Évaluer la performance du modèle\n",
        "print(\"Accuracy:\", accuracy_score(y_test, y_pred))\n",
        "print(classification_report(y_test, y_pred))\n",
        "\n",
        "# Matrice de confusion\n",
        "cm = confusion_matrix(y_test, y_pred)\n",
        "sns.heatmap(cm, annot=True, fmt=\"d\", cmap=\"Blues\")\n",
        "plt.title('Confusion Matrix')\n",
        "plt.ylabel('True label')\n",
        "plt.xlabel('Predicted label')\n",
        "plt.show()\n"
      ]
    },
    {
      "cell_type": "markdown",
      "metadata": {
        "id": "a40BjV7ychSH"
      },
      "source": [
        "On note que :\n",
        "- Il y a une augmentation de l'accuracy entre les deux modèles : on passe de 81% à 87%\n",
        "- Pour la classe 0 on a des prédictions qui sont assez bonnes\n",
        "        Precision : 0,88\n",
        "        Recall : 0,96\n",
        "        F1-score : 0,92\n",
        "- Pour la classe 1 on a une amélioration des prédictions\n",
        "        Precision : 0,76 (pour 0,55 avant)\n",
        "        Recall : 0,47 (pour 0,22 avant)\n",
        "        F1-score : 0,58 (pour 0,31 avant)\n",
        "Le modèle a une performance qui est limité du aux erreurs faites dans la classe 1 (beaucoup de faux négatifs)\n"
      ]
    },
    {
      "cell_type": "code",
      "execution_count": 26,
      "metadata": {
        "colab": {
          "base_uri": "https://localhost:8080/",
          "height": 718
        },
        "id": "bJYo8kD6chSH",
        "outputId": "39a732d7-524e-4307-bf5d-5695aef3f64b"
      },
      "outputs": [
        {
          "data": {
            "image/png": "[encoded data removed]",
            "text/plain": [
              "<Figure size 1000x800 with 2 Axes>"
            ]
          },
          "metadata": {},
          "output_type": "display_data"
        }
      ],
      "source": [
        "# Afficher la Confusion Matrix avec des décimaux et non en nombre absolu\n",
        "cm_normalized = confusion_matrix(y_test, y_pred, normalize='true')\n",
        "\n",
        "plt.figure(figsize=(10, 8))\n",
        "sns.heatmap(cm_normalized, annot=True, cmap='coolwarm', fmt='.2f')\n",
        "plt.title('Confusion Matrix (Normalized)')\n",
        "plt.ylabel('True Label')\n",
        "plt.xlabel('Predicted Label')\n",
        "plt.show()\n"
      ]
    },
    {
      "cell_type": "markdown",
      "metadata": {
        "id": "u5BSpG6GchSI"
      },
      "source": [
        "La matrice de confusion nous confirme bien qu'on a un taux de faux négatif assez élevé (53%), alors que notre taux de faux positif est bas (4%)\n",
        "Il peut donc être intéréssant d'essayer de faire un rééchantillonage, rééquilibrer les classes, d'ajuster le seuil de décision ou encore d'optimiser les hyperparamètres."
      ]
    },
    {
      "cell_type": "markdown",
      "metadata": {
        "id": "-3NDeq8nchSI"
      },
      "source": [
        "Teste rééquilibrage des classe avec class_weight=\"balanced\""
      ]
    },
    {
      "cell_type": "code",
      "execution_count": 27,
      "metadata": {
        "colab": {
          "base_uri": "https://localhost:8080/"
        },
        "id": "BMNGuuaPchSI",
        "outputId": "469ba994-4c34-462d-8573-e06e43326303"
      },
      "outputs": [
        {
          "name": "stdout",
          "output_type": "stream",
          "text": [
            "Accuracy: 0.867\n",
            "              precision    recall  f1-score   support\n",
            "\n",
            "           0       0.88      0.97      0.92      1607\n",
            "           1       0.78      0.47      0.58       393\n",
            "\n",
            "    accuracy                           0.87      2000\n",
            "   macro avg       0.83      0.72      0.75      2000\n",
            "weighted avg       0.86      0.87      0.86      2000\n",
            "\n"
          ]
        }
      ],
      "source": [
        "RandomForestmodel = RandomForestClassifier(n_estimators=100, class_weight=\"balanced\", random_state=42)\n",
        "RandomForestmodel.fit(X_train, y_train)\n",
        "print(\"Accuracy:\", accuracy_score(y_test, y_pred))\n",
        "y_pred = RandomForestmodel.predict(X_test)\n",
        "print(classification_report(y_test, y_pred))"
      ]
    },
    {
      "cell_type": "markdown",
      "metadata": {
        "id": "h1ACHovschSI"
      },
      "source": [
        "Ça n'a pas améliorer la précision le modèle, on va donc essayer avec SMOTE"
      ]
    },
    {
      "cell_type": "code",
      "execution_count": null,
      "metadata": {
        "id": "nIokOIKUgxd5"
      },
      "outputs": [],
      "source": []
    },
    {
      "cell_type": "code",
      "execution_count": 28,
      "metadata": {
        "colab": {
          "base_uri": "https://localhost:8080/"
        },
        "id": "3a6Kh4B2chSI",
        "outputId": "96d4e064-9dbf-4158-f693-01653b1a936f"
      },
      "outputs": [
        {
          "name": "stdout",
          "output_type": "stream",
          "text": [
            "Collecting imbalanced-learn\n",
            "  Using cached imbalanced_learn-0.12.4-py3-none-any.whl.metadata (8.3 kB)\n",
            "Requirement already satisfied: numpy>=1.17.3 in /opt/anaconda3/envs/mlenv/lib/python3.10/site-packages (from imbalanced-learn) (2.0.2)\n",
            "Requirement already satisfied: scipy>=1.5.0 in /opt/anaconda3/envs/mlenv/lib/python3.10/site-packages (from imbalanced-learn) (1.13.1)\n",
            "Requirement already satisfied: scikit-learn>=1.0.2 in /opt/anaconda3/envs/mlenv/lib/python3.10/site-packages (from imbalanced-learn) (1.5.2)\n",
            "Requirement already satisfied: joblib>=1.1.1 in /opt/anaconda3/envs/mlenv/lib/python3.10/site-packages (from imbalanced-learn) (1.4.2)\n",
            "Requirement already satisfied: threadpoolctl>=2.0.0 in /opt/anaconda3/envs/mlenv/lib/python3.10/site-packages (from imbalanced-learn) (3.5.0)\n",
            "Using cached imbalanced_learn-0.12.4-py3-none-any.whl (258 kB)\n",
            "Installing collected packages: imbalanced-learn\n",
            "Successfully installed imbalanced-learn-0.12.4\n",
            "Note: you may need to restart the kernel to use updated packages.\n"
          ]
        }
      ],
      "source": [
        "pip install imbalanced-learn"
      ]
    },
    {
      "cell_type": "code",
      "execution_count": 29,
      "metadata": {
        "id": "fMvCEsnSchSL"
      },
      "outputs": [],
      "source": [
        "from imblearn.over_sampling import SMOTE"
      ]
    },
    {
      "cell_type": "code",
      "execution_count": 30,
      "metadata": {
        "colab": {
          "base_uri": "https://localhost:8080/"
        },
        "id": "B9nScNkbchSL",
        "outputId": "f5fd5f1c-1dbf-4d40-8aaf-dd3907b6cb59"
      },
      "outputs": [
        {
          "name": "stdout",
          "output_type": "stream",
          "text": [
            "Accuracy: 0.8685\n",
            "              precision    recall  f1-score   support\n",
            "\n",
            "           0       0.91      0.87      0.89      1607\n",
            "           1       0.56      0.65      0.60       393\n",
            "\n",
            "    accuracy                           0.83      2000\n",
            "   macro avg       0.73      0.76      0.75      2000\n",
            "weighted avg       0.84      0.83      0.83      2000\n",
            "\n"
          ]
        }
      ],
      "source": [
        "# Appliquer SMOTE pour rééquilibrer les classes\n",
        "smote = SMOTE(random_state=42)\n",
        "X_train_resampled, y_train_resampled = smote.fit_resample(X_train, y_train)\n",
        "\n",
        "# Entraîner le modèle RandomForest sur les données rééchantillonnées\n",
        "model2 = RandomForestClassifier(random_state=42)\n",
        "model2.fit(X_train_resampled, y_train_resampled)\n",
        "\n",
        "# Prédire et évaluer\n",
        "print(\"Accuracy:\", accuracy_score(y_test, y_pred))\n",
        "y_pred = model2.predict(X_test)\n",
        "print(classification_report(y_test, y_pred))\n"
      ]
    },
    {
      "cell_type": "markdown",
      "metadata": {
        "id": "ltovXKKRchSM"
      },
      "source": [
        "Nous pouvons noter qu'ici nous avons une nette amélioration du recall, on peut maintenant tenter de jouer sur le seuil de décision ou les hyperparamètres afin d'affiner notre modèle"
      ]
    },
    {
      "cell_type": "code",
      "execution_count": 31,
      "metadata": {
        "colab": {
          "base_uri": "https://localhost:8080/"
        },
        "id": "cVHxHqcWchSM",
        "outputId": "437995a9-8f60-4982-f52c-82c5da8561f0"
      },
      "outputs": [
        {
          "name": "stdout",
          "output_type": "stream",
          "text": [
            "Accuracy: 0.8525\n",
            "              precision    recall  f1-score   support\n",
            "\n",
            "           0       0.90      0.92      0.91      1607\n",
            "           1       0.64      0.57      0.60       393\n",
            "\n",
            "    accuracy                           0.85      2000\n",
            "   macro avg       0.77      0.74      0.76      2000\n",
            "weighted avg       0.85      0.85      0.85      2000\n",
            "\n"
          ]
        }
      ],
      "source": [
        "# Prédire les probabilités pour la classe 1 (churn)\n",
        "y_pred_proba = model.predict_proba(X_test)[:, 1]\n",
        "\n",
        "# Ajuster le seuil à 0,4\n",
        "threshold = 0.4\n",
        "y_pred_adjusted = (y_pred_proba >= threshold).astype(int)\n",
        "\n",
        "# Évaluer les performances après ajustement du seuil\n",
        "from sklearn.metrics import classification_report, accuracy_score\n",
        "\n",
        "# Afficher le rapport de classification\n",
        "print(f'Accuracy:',accuracy_score(y_test, y_pred_adjusted))\n",
        "print(classification_report(y_test, y_pred_adjusted))\n"
      ]
    },
    {
      "cell_type": "code",
      "execution_count": 32,
      "metadata": {
        "colab": {
          "base_uri": "https://localhost:8080/"
        },
        "id": "piK80Fd5chSM",
        "outputId": "7c01b066-a6e2-45ad-da14-25444e1d5786"
      },
      "outputs": [
        {
          "name": "stdout",
          "output_type": "stream",
          "text": [
            "Accuracy: 0.828\n",
            "              precision    recall  f1-score   support\n",
            "\n",
            "           0       0.92      0.86      0.89      1607\n",
            "           1       0.55      0.69      0.61       393\n",
            "\n",
            "    accuracy                           0.83      2000\n",
            "   macro avg       0.73      0.77      0.75      2000\n",
            "weighted avg       0.85      0.83      0.83      2000\n",
            "\n"
          ]
        }
      ],
      "source": [
        "# Prédire les probabilités pour la classe 1 (churn)\n",
        "y_pred_proba = model.predict_proba(X_test)[:, 1]\n",
        "\n",
        "# Ajuster le seuil à 0,3\n",
        "threshold = 0.3\n",
        "y_pred_adjusted = (y_pred_proba >= threshold).astype(int)\n",
        "\n",
        "# Évaluer les performances après ajustement du seuil\n",
        "from sklearn.metrics import classification_report, accuracy_score\n",
        "\n",
        "# Afficher le rapport de classification\n",
        "print(f'Accuracy:',accuracy_score(y_test, y_pred_adjusted))\n",
        "print(classification_report(y_test, y_pred_adjusted))"
      ]
    },
    {
      "cell_type": "markdown",
      "metadata": {
        "id": "BuGmF2JSchSM"
      },
      "source": [
        "Avec un seuil de décision de 0,3 même si l'accuracy baisse on a une prédiction qui s'améliore légèrement avec une légère augmentation du recall et du f1-score\n",
        "(la baisse de l'accuracy signifie aussi l'augmentation des faux positif)"
      ]
    },
    {
      "cell_type": "markdown",
      "metadata": {
        "id": "sOkN5KDachSM"
      },
      "source": [
        "ML FLow"
      ]
    },
    {
      "cell_type": "code",
      "execution_count": 33,
      "metadata": {
        "colab": {
          "base_uri": "https://localhost:8080/"
        },
        "id": "gSE3d9oAchSM",
        "outputId": "8441fffe-d47d-48c6-b81e-91301104d99f"
      },
      "outputs": [
        {
          "name": "stdout",
          "output_type": "stream",
          "text": [
            "Collecting mlflow\n",
            "  Using cached mlflow-2.17.0-py3-none-any.whl.metadata (29 kB)\n",
            "Collecting mlflow-skinny==2.17.0 (from mlflow)\n",
            "  Using cached mlflow_skinny-2.17.0-py3-none-any.whl.metadata (30 kB)\n",
            "Requirement already satisfied: Flask<4 in /opt/anaconda3/envs/mlenv/lib/python3.10/site-packages (from mlflow) (3.0.3)\n",
            "Collecting alembic!=1.10.0,<2 (from mlflow)\n",
            "  Using cached alembic-1.13.3-py3-none-any.whl.metadata (7.4 kB)\n",
            "Collecting docker<8,>=4.0.0 (from mlflow)\n",
            "  Using cached docker-7.1.0-py3-none-any.whl.metadata (3.8 kB)\n",
            "Collecting graphene<4 (from mlflow)\n",
            "  Using cached graphene-3.4-py2.py3-none-any.whl.metadata (6.7 kB)\n",
            "Collecting markdown<4,>=3.3 (from mlflow)\n",
            "  Using cached Markdown-3.7-py3-none-any.whl.metadata (7.0 kB)\n",
            "Requirement already satisfied: matplotlib<4 in /opt/anaconda3/envs/mlenv/lib/python3.10/site-packages (from mlflow) (3.9.2)\n",
            "Requirement already satisfied: numpy<3 in /opt/anaconda3/envs/mlenv/lib/python3.10/site-packages (from mlflow) (2.0.2)\n",
            "Requirement already satisfied: pandas<3 in /opt/anaconda3/envs/mlenv/lib/python3.10/site-packages (from mlflow) (2.2.3)\n",
            "Requirement already satisfied: pyarrow<18,>=4.0.0 in /opt/anaconda3/envs/mlenv/lib/python3.10/site-packages (from mlflow) (17.0.0)\n",
            "Requirement already satisfied: scikit-learn<2 in /opt/anaconda3/envs/mlenv/lib/python3.10/site-packages (from mlflow) (1.5.2)\n",
            "Requirement already satisfied: scipy<2 in /opt/anaconda3/envs/mlenv/lib/python3.10/site-packages (from mlflow) (1.13.1)\n",
            "Collecting sqlalchemy<3,>=1.4.0 (from mlflow)\n",
            "  Downloading SQLAlchemy-2.0.36-cp310-cp310-macosx_11_0_arm64.whl.metadata (9.7 kB)\n",
            "Requirement already satisfied: Jinja2<4,>=2.11 in /opt/anaconda3/envs/mlenv/lib/python3.10/site-packages (from mlflow) (3.1.4)\n",
            "Collecting gunicorn<24 (from mlflow)\n",
            "  Using cached gunicorn-23.0.0-py3-none-any.whl.metadata (4.4 kB)\n",
            "Requirement already satisfied: cachetools<6,>=5.0.0 in /opt/anaconda3/envs/mlenv/lib/python3.10/site-packages (from mlflow-skinny==2.17.0->mlflow) (5.5.0)\n",
            "Requirement already satisfied: click<9,>=7.0 in /opt/anaconda3/envs/mlenv/lib/python3.10/site-packages (from mlflow-skinny==2.17.0->mlflow) (8.1.7)\n",
            "Collecting cloudpickle<4 (from mlflow-skinny==2.17.0->mlflow)\n",
            "  Using cached cloudpickle-3.1.0-py3-none-any.whl.metadata (7.0 kB)\n",
            "Collecting databricks-sdk<1,>=0.20.0 (from mlflow-skinny==2.17.0->mlflow)\n",
            "  Downloading databricks_sdk-0.36.0-py3-none-any.whl.metadata (38 kB)\n",
            "Requirement already satisfied: gitpython<4,>=3.1.9 in /opt/anaconda3/envs/mlenv/lib/python3.10/site-packages (from mlflow-skinny==2.17.0->mlflow) (3.1.43)\n",
            "Requirement already satisfied: importlib-metadata!=4.7.0,<9,>=3.7.0 in /opt/anaconda3/envs/mlenv/lib/python3.10/site-packages (from mlflow-skinny==2.17.0->mlflow) (8.5.0)\n",
            "Collecting opentelemetry-api<3,>=1.9.0 (from mlflow-skinny==2.17.0->mlflow)\n",
            "  Using cached opentelemetry_api-1.27.0-py3-none-any.whl.metadata (1.4 kB)\n",
            "Collecting opentelemetry-sdk<3,>=1.9.0 (from mlflow-skinny==2.17.0->mlflow)\n",
            "  Using cached opentelemetry_sdk-1.27.0-py3-none-any.whl.metadata (1.5 kB)\n",
            "Requirement already satisfied: packaging<25 in /opt/anaconda3/envs/mlenv/lib/python3.10/site-packages (from mlflow-skinny==2.17.0->mlflow) (24.1)\n",
            "Requirement already satisfied: protobuf<6,>=3.12.0 in /opt/anaconda3/envs/mlenv/lib/python3.10/site-packages (from mlflow-skinny==2.17.0->mlflow) (5.28.2)\n",
            "Requirement already satisfied: pyyaml<7,>=5.1 in /opt/anaconda3/envs/mlenv/lib/python3.10/site-packages (from mlflow-skinny==2.17.0->mlflow) (6.0.2)\n",
            "Requirement already satisfied: requests<3,>=2.17.3 in /opt/anaconda3/envs/mlenv/lib/python3.10/site-packages (from mlflow-skinny==2.17.0->mlflow) (2.32.3)\n",
            "Collecting sqlparse<1,>=0.4.0 (from mlflow-skinny==2.17.0->mlflow)\n",
            "  Using cached sqlparse-0.5.1-py3-none-any.whl.metadata (3.9 kB)\n",
            "Collecting Mako (from alembic!=1.10.0,<2->mlflow)\n",
            "  Using cached Mako-1.3.6-py3-none-any.whl.metadata (2.9 kB)\n",
            "Requirement already satisfied: typing-extensions>=4 in /opt/anaconda3/envs/mlenv/lib/python3.10/site-packages (from alembic!=1.10.0,<2->mlflow) (4.12.2)\n",
            "Requirement already satisfied: urllib3>=1.26.0 in /opt/anaconda3/envs/mlenv/lib/python3.10/site-packages (from docker<8,>=4.0.0->mlflow) (2.2.3)\n",
            "Requirement already satisfied: Werkzeug>=3.0.0 in /opt/anaconda3/envs/mlenv/lib/python3.10/site-packages (from Flask<4->mlflow) (3.0.4)\n",
            "Requirement already satisfied: itsdangerous>=2.1.2 in /opt/anaconda3/envs/mlenv/lib/python3.10/site-packages (from Flask<4->mlflow) (2.2.0)\n",
            "Requirement already satisfied: blinker>=1.6.2 in /opt/anaconda3/envs/mlenv/lib/python3.10/site-packages (from Flask<4->mlflow) (1.8.2)\n",
            "Collecting graphql-core<3.3,>=3.1 (from graphene<4->mlflow)\n",
            "  Using cached graphql_core-3.2.5-py3-none-any.whl.metadata (10 kB)\n",
            "Collecting graphql-relay<3.3,>=3.1 (from graphene<4->mlflow)\n",
            "  Using cached graphql_relay-3.2.0-py3-none-any.whl.metadata (12 kB)\n",
            "Requirement already satisfied: MarkupSafe>=2.0 in /opt/anaconda3/envs/mlenv/lib/python3.10/site-packages (from Jinja2<4,>=2.11->mlflow) (3.0.2)\n",
            "Requirement already satisfied: contourpy>=1.0.1 in /opt/anaconda3/envs/mlenv/lib/python3.10/site-packages (from matplotlib<4->mlflow) (1.3.0)\n",
            "Requirement already satisfied: cycler>=0.10 in /opt/anaconda3/envs/mlenv/lib/python3.10/site-packages (from matplotlib<4->mlflow) (0.12.1)\n",
            "Requirement already satisfied: fonttools>=4.22.0 in /opt/anaconda3/envs/mlenv/lib/python3.10/site-packages (from matplotlib<4->mlflow) (4.54.1)\n",
            "Requirement already satisfied: kiwisolver>=1.3.1 in /opt/anaconda3/envs/mlenv/lib/python3.10/site-packages (from matplotlib<4->mlflow) (1.4.7)\n",
            "Requirement already satisfied: pillow>=8 in /opt/anaconda3/envs/mlenv/lib/python3.10/site-packages (from matplotlib<4->mlflow) (10.4.0)\n",
            "Requirement already satisfied: pyparsing>=2.3.1 in /opt/anaconda3/envs/mlenv/lib/python3.10/site-packages (from matplotlib<4->mlflow) (3.2.0)\n",
            "Requirement already satisfied: python-dateutil>=2.7 in /opt/anaconda3/envs/mlenv/lib/python3.10/site-packages (from matplotlib<4->mlflow) (2.9.0)\n",
            "Requirement already satisfied: pytz>=2020.1 in /opt/anaconda3/envs/mlenv/lib/python3.10/site-packages (from pandas<3->mlflow) (2024.2)\n",
            "Requirement already satisfied: tzdata>=2022.7 in /opt/anaconda3/envs/mlenv/lib/python3.10/site-packages (from pandas<3->mlflow) (2024.2)\n",
            "Requirement already satisfied: joblib>=1.2.0 in /opt/anaconda3/envs/mlenv/lib/python3.10/site-packages (from scikit-learn<2->mlflow) (1.4.2)\n",
            "Requirement already satisfied: threadpoolctl>=3.1.0 in /opt/anaconda3/envs/mlenv/lib/python3.10/site-packages (from scikit-learn<2->mlflow) (3.5.0)\n",
            "Collecting google-auth~=2.0 (from databricks-sdk<1,>=0.20.0->mlflow-skinny==2.17.0->mlflow)\n",
            "  Using cached google_auth-2.35.0-py2.py3-none-any.whl.metadata (4.7 kB)\n",
            "Requirement already satisfied: gitdb<5,>=4.0.1 in /opt/anaconda3/envs/mlenv/lib/python3.10/site-packages (from gitpython<4,>=3.1.9->mlflow-skinny==2.17.0->mlflow) (4.0.11)\n",
            "Requirement already satisfied: zipp>=3.20 in /opt/anaconda3/envs/mlenv/lib/python3.10/site-packages (from importlib-metadata!=4.7.0,<9,>=3.7.0->mlflow-skinny==2.17.0->mlflow) (3.20.2)\n",
            "Collecting deprecated>=1.2.6 (from opentelemetry-api<3,>=1.9.0->mlflow-skinny==2.17.0->mlflow)\n",
            "  Using cached Deprecated-1.2.14-py2.py3-none-any.whl.metadata (5.4 kB)\n",
            "Collecting importlib-metadata!=4.7.0,<9,>=3.7.0 (from mlflow-skinny==2.17.0->mlflow)\n",
            "  Using cached importlib_metadata-8.4.0-py3-none-any.whl.metadata (4.7 kB)\n",
            "Collecting opentelemetry-semantic-conventions==0.48b0 (from opentelemetry-sdk<3,>=1.9.0->mlflow-skinny==2.17.0->mlflow)\n",
            "  Using cached opentelemetry_semantic_conventions-0.48b0-py3-none-any.whl.metadata (2.4 kB)\n",
            "Requirement already satisfied: six>=1.5 in /opt/anaconda3/envs/mlenv/lib/python3.10/site-packages (from python-dateutil>=2.7->matplotlib<4->mlflow) (1.16.0)\n",
            "Requirement already satisfied: charset-normalizer<4,>=2 in /opt/anaconda3/envs/mlenv/lib/python3.10/site-packages (from requests<3,>=2.17.3->mlflow-skinny==2.17.0->mlflow) (3.4.0)\n",
            "Requirement already satisfied: idna<4,>=2.5 in /opt/anaconda3/envs/mlenv/lib/python3.10/site-packages (from requests<3,>=2.17.3->mlflow-skinny==2.17.0->mlflow) (3.10)\n",
            "Requirement already satisfied: certifi>=2017.4.17 in /opt/anaconda3/envs/mlenv/lib/python3.10/site-packages (from requests<3,>=2.17.3->mlflow-skinny==2.17.0->mlflow) (2024.8.30)\n",
            "Collecting wrapt<2,>=1.10 (from deprecated>=1.2.6->opentelemetry-api<3,>=1.9.0->mlflow-skinny==2.17.0->mlflow)\n",
            "  Downloading wrapt-1.16.0-cp310-cp310-macosx_11_0_arm64.whl.metadata (6.6 kB)\n",
            "Requirement already satisfied: smmap<6,>=3.0.1 in /opt/anaconda3/envs/mlenv/lib/python3.10/site-packages (from gitdb<5,>=4.0.1->gitpython<4,>=3.1.9->mlflow-skinny==2.17.0->mlflow) (5.0.1)\n",
            "Collecting pyasn1-modules>=0.2.1 (from google-auth~=2.0->databricks-sdk<1,>=0.20.0->mlflow-skinny==2.17.0->mlflow)\n",
            "  Using cached pyasn1_modules-0.4.1-py3-none-any.whl.metadata (3.5 kB)\n",
            "Collecting rsa<5,>=3.1.4 (from google-auth~=2.0->databricks-sdk<1,>=0.20.0->mlflow-skinny==2.17.0->mlflow)\n",
            "  Using cached rsa-4.9-py3-none-any.whl.metadata (4.2 kB)\n",
            "Collecting pyasn1<0.7.0,>=0.4.6 (from pyasn1-modules>=0.2.1->google-auth~=2.0->databricks-sdk<1,>=0.20.0->mlflow-skinny==2.17.0->mlflow)\n",
            "  Using cached pyasn1-0.6.1-py3-none-any.whl.metadata (8.4 kB)\n",
            "Using cached mlflow-2.17.0-py3-none-any.whl (26.7 MB)\n",
            "Using cached mlflow_skinny-2.17.0-py3-none-any.whl (5.7 MB)\n",
            "Using cached alembic-1.13.3-py3-none-any.whl (233 kB)\n",
            "Using cached docker-7.1.0-py3-none-any.whl (147 kB)\n",
            "Using cached graphene-3.4-py2.py3-none-any.whl (114 kB)\n",
            "Using cached gunicorn-23.0.0-py3-none-any.whl (85 kB)\n",
            "Using cached Markdown-3.7-py3-none-any.whl (106 kB)\n",
            "Downloading SQLAlchemy-2.0.36-cp310-cp310-macosx_11_0_arm64.whl (2.1 MB)\n",
            "\u001b[2K   \u001b[90m━━━━━━━━━━━━━━━━━━━━━━━━━━━━━━━━━━━━━━━━\u001b[0m \u001b[32m2.1/2.1 MB\u001b[0m \u001b[31m3.6 MB/s\u001b[0m eta \u001b[36m0:00:00\u001b[0ma \u001b[36m0:00:01\u001b[0m\n",
            "\u001b[?25hUsing cached cloudpickle-3.1.0-py3-none-any.whl (22 kB)\n",
            "Downloading databricks_sdk-0.36.0-py3-none-any.whl (569 kB)\n",
            "\u001b[2K   \u001b[90m━━━━━━━━━━━━━━━━━━━━━━━━━━━━━━━━━━━━━━━━\u001b[0m \u001b[32m569.1/569.1 kB\u001b[0m \u001b[31m3.6 MB/s\u001b[0m eta \u001b[36m0:00:00\u001b[0m\n",
            "\u001b[?25hUsing cached graphql_core-3.2.5-py3-none-any.whl (203 kB)\n",
            "Using cached graphql_relay-3.2.0-py3-none-any.whl (16 kB)\n",
            "Using cached opentelemetry_api-1.27.0-py3-none-any.whl (63 kB)\n",
            "Using cached importlib_metadata-8.4.0-py3-none-any.whl (26 kB)\n",
            "Using cached opentelemetry_sdk-1.27.0-py3-none-any.whl (110 kB)\n",
            "Using cached opentelemetry_semantic_conventions-0.48b0-py3-none-any.whl (149 kB)\n",
            "Using cached sqlparse-0.5.1-py3-none-any.whl (44 kB)\n",
            "Using cached Mako-1.3.6-py3-none-any.whl (78 kB)\n",
            "Using cached Deprecated-1.2.14-py2.py3-none-any.whl (9.6 kB)\n",
            "Using cached google_auth-2.35.0-py2.py3-none-any.whl (208 kB)\n",
            "Using cached pyasn1_modules-0.4.1-py3-none-any.whl (181 kB)\n",
            "Using cached rsa-4.9-py3-none-any.whl (34 kB)\n",
            "Downloading wrapt-1.16.0-cp310-cp310-macosx_11_0_arm64.whl (38 kB)\n",
            "Using cached pyasn1-0.6.1-py3-none-any.whl (83 kB)\n",
            "Installing collected packages: wrapt, sqlparse, sqlalchemy, pyasn1, markdown, Mako, importlib-metadata, gunicorn, graphql-core, cloudpickle, rsa, pyasn1-modules, graphql-relay, docker, deprecated, alembic, opentelemetry-api, graphene, google-auth, opentelemetry-semantic-conventions, databricks-sdk, opentelemetry-sdk, mlflow-skinny, mlflow\n",
            "  Attempting uninstall: importlib-metadata\n",
            "    Found existing installation: importlib_metadata 8.5.0\n",
            "    Uninstalling importlib_metadata-8.5.0:\n",
            "      Successfully uninstalled importlib_metadata-8.5.0\n",
            "Successfully installed Mako-1.3.6 alembic-1.13.3 cloudpickle-3.1.0 databricks-sdk-0.36.0 deprecated-1.2.14 docker-7.1.0 google-auth-2.35.0 graphene-3.4 graphql-core-3.2.5 graphql-relay-3.2.0 gunicorn-23.0.0 importlib-metadata-8.4.0 markdown-3.7 mlflow-2.17.0 mlflow-skinny-2.17.0 opentelemetry-api-1.27.0 opentelemetry-sdk-1.27.0 opentelemetry-semantic-conventions-0.48b0 pyasn1-0.6.1 pyasn1-modules-0.4.1 rsa-4.9 sqlalchemy-2.0.36 sqlparse-0.5.1 wrapt-1.16.0\n",
            "Note: you may need to restart the kernel to use updated packages.\n"
          ]
        }
      ],
      "source": [
        "pip install mlflow"
      ]
    },
    {
      "cell_type": "markdown",
      "metadata": {},
      "source": [
        "ML Flow avec 10 arbres"
      ]
    },
    {
      "cell_type": "code",
      "execution_count": null,
      "metadata": {},
      "outputs": [],
      "source": [
        "mlflow.set_tracking_uri(uri=\"http://0.0.0.0:8000\")\n",
        "mlflow.set_experiment(\"ML Flow demo with Churn dataset\")\n",
        "\n",
        "with mlflow.start_run():\n",
        "    #donne a with 2 fonctions, ouvre un contexte qui permet d'accumuler de l'information\n",
        "    mlflow.set_tag(\"Training Info\", \"RandomForest model for churn data\")\n",
        "\n",
        "    hyper_params = {\n",
        "        \"n_estimators\": 10,\n",
        "        \"max_depth\": 5\n",
        "    }\n",
        "    \n",
        "    # Enregistrer les hyperparamètres dans MLflow\n",
        "    mlflow.log_params(hyper_params)\n",
        "    \n",
        "    # Exemple d'entraînement du modèle\n",
        "    model = RandomForestClassifier(n_estimators=hyper_params['n_estimators'], max_depth=hyper_params['max_depth'])\n",
        "    model.fit(X_train, y_train) \n",
        "    \n",
        "    # Prédiction sur les données de test\n",
        "    y_pred = model.predict(X_test)  \n",
        "    \n",
        "    # Enregistrer le modèle\n",
        "    mlflow.sklearn.log_model(model, \"RandomForest_Model\")\n",
        "\n",
        "    # Calculer le F1_Score et l'enregistrer dans MLflow\n",
        "    from sklearn.metrics import accuracy_score\n",
        "    accuracy = accuracy_score (y_test, y_pred)  \n",
        "    mlflow.log_metric(\"accuracy\", accuracy)"
      ]
    },
    {
      "cell_type": "code",
      "execution_count": null,
      "metadata": {},
      "outputs": [],
      "source": [
        "mlflow.set_tracking_uri(uri=\"http://0.0.0.0:8000\")\n",
        "mlflow.set_experiment(\"ML Flow demo with Churn dataset\")\n",
        "\n",
        "with mlflow.start_run():\n",
        "    #donne a with 2 fonctions, ouvre un contexte qui permet d'accumuler de l'information\n",
        "    mlflow.set_tag(\"Training Info\", \"RandomForest model for churn data\")\n",
        "\n",
        "    hyper_params = {\n",
        "        \"n_estimators\": 10,\n",
        "        \"max_depth\": 5\n",
        "    }\n",
        "    \n",
        "    # Enregistrer les hyperparamètres dans MLflow\n",
        "    mlflow.log_params(hyper_params)\n",
        "    \n",
        "    # Exemple d'entraînement du modèle\n",
        "    model = RandomForestClassifier(n_estimators=hyper_params['n_estimators'], max_depth=hyper_params['max_depth'])\n",
        "    model.fit(X_train, y_train) \n",
        "    \n",
        "    # Prédiction sur les données de test\n",
        "    y_pred = model.predict(X_test)  \n",
        "    \n",
        "    # Enregistrer le modèle\n",
        "    mlflow.sklearn.log_model(model, \"RandomForest_Model\")\n",
        "\n",
        "    # Calculer le F1_Score et l'enregistrer dans MLflow\n",
        "    from sklearn.metrics import f1_score\n",
        "    f1_score = f1_score(y_test, y_pred)  \n",
        "    mlflow.log_metric(\"F1_Score\", f1_score)"
      ]
    },
    {
      "cell_type": "markdown",
      "metadata": {},
      "source": [
        "ML Flow avec 100 arbres"
      ]
    },
    {
      "cell_type": "code",
      "execution_count": null,
      "metadata": {},
      "outputs": [],
      "source": [
        "mlflow.set_tracking_uri(uri=\"http://0.0.0.0:8000\")\n",
        "mlflow.set_experiment(\"ML Flow demo with Churn dataset\")\n",
        "\n",
        "with mlflow.start_run():\n",
        "    #donne a with 2 fonctions, ouvre un contexte qui permet d'accumuler de l'information\n",
        "    mlflow.set_tag(\"Training Info\", \"RandomForest model for churn data\")\n",
        "\n",
        "    hyper_params = {\n",
        "        \"n_estimators\": 100,\n",
        "        \"max_depth\": 5\n",
        "    }\n",
        "    \n",
        "    # Enregistrer les hyperparamètres dans MLflow\n",
        "    mlflow.log_params(hyper_params)\n",
        "    \n",
        "    # Exemple d'entraînement du modèle\n",
        "    model = RandomForestClassifier(n_estimators=hyper_params['n_estimators'], max_depth=hyper_params['max_depth'])\n",
        "    model.fit(X_train, y_train) \n",
        "    \n",
        "    # Prédiction sur les données de test\n",
        "    y_pred = model.predict(X_test)  \n",
        "    \n",
        "    # Enregistrer le modèle\n",
        "    mlflow.sklearn.log_model(model, \"RandomForest_Model\")\n",
        "\n",
        "    # Calculer le F1_Score et l'enregistrer dans MLflow\n",
        "    from sklearn.metrics import accuracy_score\n",
        "    accuracy = accuracy_score (y_test, y_pred)  \n",
        "    mlflow.log_metric(\"accuracy\", accuracy)"
      ]
    },
    {
      "cell_type": "code",
      "execution_count": null,
      "metadata": {},
      "outputs": [],
      "source": [
        "mlflow.set_tracking_uri(uri=\"http://0.0.0.0:8000\")\n",
        "mlflow.set_experiment(\"ML Flow demo with Churn dataset\")\n",
        "\n",
        "with mlflow.start_run():\n",
        "    #donne a with 2 fonctions, ouvre un contexte qui permet d'accumuler de l'information\n",
        "    mlflow.set_tag(\"Training Info\", \"RandomForest model for churn data\")\n",
        "\n",
        "    hyper_params = {\n",
        "        \"n_estimators\": 100,\n",
        "        \"max_depth\": 5\n",
        "    }\n",
        "    \n",
        "    # Enregistrer les hyperparamètres dans MLflow\n",
        "    mlflow.log_params(hyper_params)\n",
        "    \n",
        "    # Exemple d'entraînement du modèle\n",
        "    model = RandomForestClassifier(n_estimators=hyper_params['n_estimators'], max_depth=hyper_params['max_depth'])\n",
        "    model.fit(X_train, y_train) \n",
        "    \n",
        "    # Prédiction sur les données de test\n",
        "    y_pred = model.predict(X_test)  \n",
        "    \n",
        "    # Enregistrer le modèle\n",
        "    mlflow.sklearn.log_model(model, \"RandomForest_Model\")\n",
        "\n",
        "    # Calculer le F1_Score et l'enregistrer dans MLflow\n",
        "    from sklearn.metrics import f1_score\n",
        "    f1_score = f1_score(y_test, y_pred)  \n",
        "    mlflow.log_metric(\"F1_Score\", f1_score)"
      ]
    },
    {
      "cell_type": "markdown",
      "metadata": {},
      "source": [
        "Sans hyper paramètre"
      ]
    },
    {
      "cell_type": "code",
      "execution_count": null,
      "metadata": {},
      "outputs": [],
      "source": [
        "mlflow.set_tracking_uri(uri=\"http://0.0.0.0:8000\")\n",
        "mlflow.set_experiment(\"ML Flow demo with Churn dataset\")\n",
        "\n",
        "with mlflow.start_run():\n",
        "    #donne a with 2 fonctions, ouvre un contexte qui permet d'accumuler de l'information\n",
        "    mlflow.set_tag(\"Training Info\", \"RandomForest model for churn data\")\n",
        "\n",
        "    hyper_params = {\n",
        "    }\n",
        "    \n",
        "    # Enregistrer les hyperparamètres dans MLflow\n",
        "    mlflow.log_params(hyper_params)\n",
        "    \n",
        "    # Exemple d'entraînement du modèle\n",
        "    model = RandomForestClassifier(**hyper_params)\n",
        "    model.fit(X_train, y_train) \n",
        "    \n",
        "    # Prédiction sur les données de test\n",
        "    y_pred = model.predict(X_test)  \n",
        "    \n",
        "    # Enregistrer le modèle\n",
        "    mlflow.sklearn.log_model(model, \"RandomForest_Model\")\n",
        "\n",
        "    # Calculer le F1_Score et l'enregistrer dans MLflow\n",
        "    from sklearn.metrics import f1_score\n",
        "    f1_score = f1_score(y_test, y_pred)  \n",
        "    mlflow.log_metric(\"F1_Score\", f1_score)\n",
        "print (f1_score)"
      ]
    },
    {
      "cell_type": "code",
      "execution_count": null,
      "metadata": {},
      "outputs": [],
      "source": [
        "mlflow.set_tracking_uri(uri=\"http://0.0.0.0:8000\")\n",
        "mlflow.set_experiment(\"ML Flow demo with Churn dataset\")\n",
        "\n",
        "with mlflow.start_run():\n",
        "    #donne a with 2 fonctions, ouvre un contexte qui permet d'accumuler de l'information\n",
        "    mlflow.set_tag(\"Training Info\", \"RandomForest model for churn data\")\n",
        "\n",
        "    hyper_params = {\n",
        "    }\n",
        "    \n",
        "    # Enregistrer les hyperparamètres dans MLflow\n",
        "    mlflow.log_params(hyper_params)\n",
        "    \n",
        "    # Exemple d'entraînement du modèle\n",
        "    model = RandomForestClassifier(**hyper_params)\n",
        "    model.fit(X_train, y_train) \n",
        "    \n",
        "    # Prédiction sur les données de test\n",
        "    y_pred = model.predict(X_test)  \n",
        "    \n",
        "    # Enregistrer le modèle\n",
        "    mlflow.sklearn.log_model(model, \"RandomForest_Model\")\n",
        "\n",
        "    # Calculer le F1_Score et l'enregistrer dans MLflow\n",
        "    from sklearn.metrics import accuracy_score\n",
        "    accuracy = accuracy_score (y_test, y_pred)  \n",
        "    mlflow.log_metric(\"accuracy\", accuracy)\n",
        "print (accuracy)"
      ]
    }
  ],
  "metadata": {
    "colab": {
      "provenance": []
    },
    "kernelspec": {
      "display_name": "Python 3",
      "language": "python",
      "name": "python3"
    },
    "language_info": {
      "codemirror_mode": {
        "name": "ipython",
        "version": 3
      },
      "file_extension": ".py",
      "mimetype": "text/x-python",
      "name": "python",
      "nbconvert_exporter": "python",
      "pygments_lexer": "ipython3",
      "version": "3.10.15"
    },
    "orig_nbformat": 4,
    "widgets": {
      "application/vnd.jupyter.widget-state+json": {
        "077cc540598d4fbd82ead5c11622416f": {
          "model_module": "@jupyter-widgets/controls",
          "model_module_version": "1.5.0",
          "model_name": "HBoxModel",
          "state": {
            "_dom_classes": [],
            "_model_module": "@jupyter-widgets/controls",
            "_model_module_version": "1.5.0",
            "_model_name": "HBoxModel",
            "_view_count": null,
            "_view_module": "@jupyter-widgets/controls",
            "_view_module_version": "1.5.0",
            "_view_name": "HBoxView",
            "box_style": "",
            "children": [
              "IPY_MODEL_6dc70e698d66453cb54285b3eec0ede1",
              "IPY_MODEL_cc943c3c3a274010b7c01f592813b38d",
              "IPY_MODEL_73db5e4563a546a9b172da8ba8fbb69b"
            ],
            "layout": "IPY_MODEL_121f92c4cf034d1db940908b968cb3dd"
          }
        },
        "121f92c4cf034d1db940908b968cb3dd": {
          "model_module": "@jupyter-widgets/base",
          "model_module_version": "1.2.0",
          "model_name": "LayoutModel",
          "state": {
            "_model_module": "@jupyter-widgets/base",
            "_model_module_version": "1.2.0",
            "_model_name": "LayoutModel",
            "_view_count": null,
            "_view_module": "@jupyter-widgets/base",
            "_view_module_version": "1.2.0",
            "_view_name": "LayoutView",
            "align_content": null,
            "align_items": null,
            "align_self": null,
            "border": null,
            "bottom": null,
            "display": null,
            "flex": null,
            "flex_flow": null,
            "grid_area": null,
            "grid_auto_columns": null,
            "grid_auto_flow": null,
            "grid_auto_rows": null,
            "grid_column": null,
            "grid_gap": null,
            "grid_row": null,
            "grid_template_areas": null,
            "grid_template_columns": null,
            "grid_template_rows": null,
            "height": null,
            "justify_content": null,
            "justify_items": null,
            "left": null,
            "margin": null,
            "max_height": null,
            "max_width": null,
            "min_height": null,
            "min_width": null,
            "object_fit": null,
            "object_position": null,
            "order": null,
            "overflow": null,
            "overflow_x": null,
            "overflow_y": null,
            "padding": null,
            "right": null,
            "top": null,
            "visibility": null,
            "width": null
          }
        },
        "142be2ef87864a47b531dfe54da3e0b8": {
          "model_module": "@jupyter-widgets/controls",
          "model_module_version": "1.5.0",
          "model_name": "HBoxModel",
          "state": {
            "_dom_classes": [],
            "_model_module": "@jupyter-widgets/controls",
            "_model_module_version": "1.5.0",
            "_model_name": "HBoxModel",
            "_view_count": null,
            "_view_module": "@jupyter-widgets/controls",
            "_view_module_version": "1.5.0",
            "_view_name": "HBoxView",
            "box_style": "",
            "children": [
              "IPY_MODEL_15700dde347a42b0b7bde11e2dccb76d",
              "IPY_MODEL_39e04a86c1d04c23a89cc12635a0ce9e",
              "IPY_MODEL_1c893ba6074341e98762bd84e1dbe7ea"
            ],
            "layout": "IPY_MODEL_b36885ab1a8d45be8c967380e9b7bbee"
          }
        },
        "15700dde347a42b0b7bde11e2dccb76d": {
          "model_module": "@jupyter-widgets/controls",
          "model_module_version": "1.5.0",
          "model_name": "HTMLModel",
          "state": {
            "_dom_classes": [],
            "_model_module": "@jupyter-widgets/controls",
            "_model_module_version": "1.5.0",
            "_model_name": "HTMLModel",
            "_view_count": null,
            "_view_module": "@jupyter-widgets/controls",
            "_view_module_version": "1.5.0",
            "_view_name": "HTMLView",
            "description": "",
            "description_tooltip": null,
            "layout": "IPY_MODEL_6841a5e011b94c97a4186c86641f76e5",
            "placeholder": "​",
            "style": "IPY_MODEL_33910f531dc346b2888686572c080122",
            "value": "Summarize dataset: 100%"
          }
        },
        "1c893ba6074341e98762bd84e1dbe7ea": {
          "model_module": "@jupyter-widgets/controls",
          "model_module_version": "1.5.0",
          "model_name": "HTMLModel",
          "state": {
            "_dom_classes": [],
            "_model_module": "@jupyter-widgets/controls",
            "_model_module_version": "1.5.0",
            "_model_name": "HTMLModel",
            "_view_count": null,
            "_view_module": "@jupyter-widgets/controls",
            "_view_module_version": "1.5.0",
            "_view_name": "HTMLView",
            "description": "",
            "description_tooltip": null,
            "layout": "IPY_MODEL_bcd2d4173cab4b98a4821ebde9117320",
            "placeholder": "​",
            "style": "IPY_MODEL_f51e8eb0fd7c4f7cadf11da3310fc47d",
            "value": " 45/45 [00:09&lt;00:00,  2.39it/s, Completed]"
          }
        },
        "238e2e452b69422ab74be7276324d897": {
          "model_module": "@jupyter-widgets/base",
          "model_module_version": "1.2.0",
          "model_name": "LayoutModel",
          "state": {
            "_model_module": "@jupyter-widgets/base",
            "_model_module_version": "1.2.0",
            "_model_name": "LayoutModel",
            "_view_count": null,
            "_view_module": "@jupyter-widgets/base",
            "_view_module_version": "1.2.0",
            "_view_name": "LayoutView",
            "align_content": null,
            "align_items": null,
            "align_self": null,
            "border": null,
            "bottom": null,
            "display": null,
            "flex": null,
            "flex_flow": null,
            "grid_area": null,
            "grid_auto_columns": null,
            "grid_auto_flow": null,
            "grid_auto_rows": null,
            "grid_column": null,
            "grid_gap": null,
            "grid_row": null,
            "grid_template_areas": null,
            "grid_template_columns": null,
            "grid_template_rows": null,
            "height": null,
            "justify_content": null,
            "justify_items": null,
            "left": null,
            "margin": null,
            "max_height": null,
            "max_width": null,
            "min_height": null,
            "min_width": null,
            "object_fit": null,
            "object_position": null,
            "order": null,
            "overflow": null,
            "overflow_x": null,
            "overflow_y": null,
            "padding": null,
            "right": null,
            "top": null,
            "visibility": null,
            "width": null
          }
        },
        "26f3c11e83744e998cf67dd380685a8a": {
          "model_module": "@jupyter-widgets/base",
          "model_module_version": "1.2.0",
          "model_name": "LayoutModel",
          "state": {
            "_model_module": "@jupyter-widgets/base",
            "_model_module_version": "1.2.0",
            "_model_name": "LayoutModel",
            "_view_count": null,
            "_view_module": "@jupyter-widgets/base",
            "_view_module_version": "1.2.0",
            "_view_name": "LayoutView",
            "align_content": null,
            "align_items": null,
            "align_self": null,
            "border": null,
            "bottom": null,
            "display": null,
            "flex": null,
            "flex_flow": null,
            "grid_area": null,
            "grid_auto_columns": null,
            "grid_auto_flow": null,
            "grid_auto_rows": null,
            "grid_column": null,
            "grid_gap": null,
            "grid_row": null,
            "grid_template_areas": null,
            "grid_template_columns": null,
            "grid_template_rows": null,
            "height": null,
            "justify_content": null,
            "justify_items": null,
            "left": null,
            "margin": null,
            "max_height": null,
            "max_width": null,
            "min_height": null,
            "min_width": null,
            "object_fit": null,
            "object_position": null,
            "order": null,
            "overflow": null,
            "overflow_x": null,
            "overflow_y": null,
            "padding": null,
            "right": null,
            "top": null,
            "visibility": null,
            "width": null
          }
        },
        "272ab165b1a04fa9945d44292c3a0de8": {
          "model_module": "@jupyter-widgets/controls",
          "model_module_version": "1.5.0",
          "model_name": "DescriptionStyleModel",
          "state": {
            "_model_module": "@jupyter-widgets/controls",
            "_model_module_version": "1.5.0",
            "_model_name": "DescriptionStyleModel",
            "_view_count": null,
            "_view_module": "@jupyter-widgets/base",
            "_view_module_version": "1.2.0",
            "_view_name": "StyleView",
            "description_width": ""
          }
        },
        "28dec65d955b406892d828368cb4cf26": {
          "model_module": "@jupyter-widgets/controls",
          "model_module_version": "1.5.0",
          "model_name": "ProgressStyleModel",
          "state": {
            "_model_module": "@jupyter-widgets/controls",
            "_model_module_version": "1.5.0",
            "_model_name": "ProgressStyleModel",
            "_view_count": null,
            "_view_module": "@jupyter-widgets/base",
            "_view_module_version": "1.2.0",
            "_view_name": "StyleView",
            "bar_color": null,
            "description_width": ""
          }
        },
        "33910f531dc346b2888686572c080122": {
          "model_module": "@jupyter-widgets/controls",
          "model_module_version": "1.5.0",
          "model_name": "DescriptionStyleModel",
          "state": {
            "_model_module": "@jupyter-widgets/controls",
            "_model_module_version": "1.5.0",
            "_model_name": "DescriptionStyleModel",
            "_view_count": null,
            "_view_module": "@jupyter-widgets/base",
            "_view_module_version": "1.2.0",
            "_view_name": "StyleView",
            "description_width": ""
          }
        },
        "3899ee4cfebd46bd9e7d77963c019e40": {
          "model_module": "@jupyter-widgets/base",
          "model_module_version": "1.2.0",
          "model_name": "LayoutModel",
          "state": {
            "_model_module": "@jupyter-widgets/base",
            "_model_module_version": "1.2.0",
            "_model_name": "LayoutModel",
            "_view_count": null,
            "_view_module": "@jupyter-widgets/base",
            "_view_module_version": "1.2.0",
            "_view_name": "LayoutView",
            "align_content": null,
            "align_items": null,
            "align_self": null,
            "border": null,
            "bottom": null,
            "display": null,
            "flex": null,
            "flex_flow": null,
            "grid_area": null,
            "grid_auto_columns": null,
            "grid_auto_flow": null,
            "grid_auto_rows": null,
            "grid_column": null,
            "grid_gap": null,
            "grid_row": null,
            "grid_template_areas": null,
            "grid_template_columns": null,
            "grid_template_rows": null,
            "height": null,
            "justify_content": null,
            "justify_items": null,
            "left": null,
            "margin": null,
            "max_height": null,
            "max_width": null,
            "min_height": null,
            "min_width": null,
            "object_fit": null,
            "object_position": null,
            "order": null,
            "overflow": null,
            "overflow_x": null,
            "overflow_y": null,
            "padding": null,
            "right": null,
            "top": null,
            "visibility": null,
            "width": null
          }
        },
        "39e04a86c1d04c23a89cc12635a0ce9e": {
          "model_module": "@jupyter-widgets/controls",
          "model_module_version": "1.5.0",
          "model_name": "FloatProgressModel",
          "state": {
            "_dom_classes": [],
            "_model_module": "@jupyter-widgets/controls",
            "_model_module_version": "1.5.0",
            "_model_name": "FloatProgressModel",
            "_view_count": null,
            "_view_module": "@jupyter-widgets/controls",
            "_view_module_version": "1.5.0",
            "_view_name": "ProgressView",
            "bar_style": "success",
            "description": "",
            "description_tooltip": null,
            "layout": "IPY_MODEL_3899ee4cfebd46bd9e7d77963c019e40",
            "max": 5,
            "min": 0,
            "orientation": "horizontal",
            "style": "IPY_MODEL_e01a1294dc5a41ae8ce00ba48e97c118",
            "value": 5
          }
        },
        "3c6f375cb87048d59eacd75d91c27eb1": {
          "model_module": "@jupyter-widgets/base",
          "model_module_version": "1.2.0",
          "model_name": "LayoutModel",
          "state": {
            "_model_module": "@jupyter-widgets/base",
            "_model_module_version": "1.2.0",
            "_model_name": "LayoutModel",
            "_view_count": null,
            "_view_module": "@jupyter-widgets/base",
            "_view_module_version": "1.2.0",
            "_view_name": "LayoutView",
            "align_content": null,
            "align_items": null,
            "align_self": null,
            "border": null,
            "bottom": null,
            "display": null,
            "flex": null,
            "flex_flow": null,
            "grid_area": null,
            "grid_auto_columns": null,
            "grid_auto_flow": null,
            "grid_auto_rows": null,
            "grid_column": null,
            "grid_gap": null,
            "grid_row": null,
            "grid_template_areas": null,
            "grid_template_columns": null,
            "grid_template_rows": null,
            "height": null,
            "justify_content": null,
            "justify_items": null,
            "left": null,
            "margin": null,
            "max_height": null,
            "max_width": null,
            "min_height": null,
            "min_width": null,
            "object_fit": null,
            "object_position": null,
            "order": null,
            "overflow": null,
            "overflow_x": null,
            "overflow_y": null,
            "padding": null,
            "right": null,
            "top": null,
            "visibility": null,
            "width": null
          }
        },
        "4105fbc728a34e1890c3eee4545a60e7": {
          "model_module": "@jupyter-widgets/controls",
          "model_module_version": "1.5.0",
          "model_name": "FloatProgressModel",
          "state": {
            "_dom_classes": [],
            "_model_module": "@jupyter-widgets/controls",
            "_model_module_version": "1.5.0",
            "_model_name": "FloatProgressModel",
            "_view_count": null,
            "_view_module": "@jupyter-widgets/controls",
            "_view_module_version": "1.5.0",
            "_view_name": "ProgressView",
            "bar_style": "success",
            "description": "",
            "description_tooltip": null,
            "layout": "IPY_MODEL_80905eac9c0844bd8ae78522a7a1554a",
            "max": 1,
            "min": 0,
            "orientation": "horizontal",
            "style": "IPY_MODEL_28dec65d955b406892d828368cb4cf26",
            "value": 1
          }
        },
        "413f2f3363544324b0cd294393a7f802": {
          "model_module": "@jupyter-widgets/controls",
          "model_module_version": "1.5.0",
          "model_name": "HTMLModel",
          "state": {
            "_dom_classes": [],
            "_model_module": "@jupyter-widgets/controls",
            "_model_module_version": "1.5.0",
            "_model_name": "HTMLModel",
            "_view_count": null,
            "_view_module": "@jupyter-widgets/controls",
            "_view_module_version": "1.5.0",
            "_view_name": "HTMLView",
            "description": "",
            "description_tooltip": null,
            "layout": "IPY_MODEL_7ecd7582334f45f5a437b7e2eff5dc2b",
            "placeholder": "​",
            "style": "IPY_MODEL_64fbd2eb3ff14eafa5dfbdc08df6762e",
            "value": "Generate report structure: 100%"
          }
        },
        "48bd0c7d548c482d867dc1a039378380": {
          "model_module": "@jupyter-widgets/base",
          "model_module_version": "1.2.0",
          "model_name": "LayoutModel",
          "state": {
            "_model_module": "@jupyter-widgets/base",
            "_model_module_version": "1.2.0",
            "_model_name": "LayoutModel",
            "_view_count": null,
            "_view_module": "@jupyter-widgets/base",
            "_view_module_version": "1.2.0",
            "_view_name": "LayoutView",
            "align_content": null,
            "align_items": null,
            "align_self": null,
            "border": null,
            "bottom": null,
            "display": null,
            "flex": null,
            "flex_flow": null,
            "grid_area": null,
            "grid_auto_columns": null,
            "grid_auto_flow": null,
            "grid_auto_rows": null,
            "grid_column": null,
            "grid_gap": null,
            "grid_row": null,
            "grid_template_areas": null,
            "grid_template_columns": null,
            "grid_template_rows": null,
            "height": null,
            "justify_content": null,
            "justify_items": null,
            "left": null,
            "margin": null,
            "max_height": null,
            "max_width": null,
            "min_height": null,
            "min_width": null,
            "object_fit": null,
            "object_position": null,
            "order": null,
            "overflow": null,
            "overflow_x": null,
            "overflow_y": null,
            "padding": null,
            "right": null,
            "top": null,
            "visibility": null,
            "width": null
          }
        },
        "621fe13f3c624c26b41509ffefe2a3ae": {
          "model_module": "@jupyter-widgets/controls",
          "model_module_version": "1.5.0",
          "model_name": "ProgressStyleModel",
          "state": {
            "_model_module": "@jupyter-widgets/controls",
            "_model_module_version": "1.5.0",
            "_model_name": "ProgressStyleModel",
            "_view_count": null,
            "_view_module": "@jupyter-widgets/base",
            "_view_module_version": "1.2.0",
            "_view_name": "StyleView",
            "bar_color": null,
            "description_width": ""
          }
        },
        "64fbd2eb3ff14eafa5dfbdc08df6762e": {
          "model_module": "@jupyter-widgets/controls",
          "model_module_version": "1.5.0",
          "model_name": "DescriptionStyleModel",
          "state": {
            "_model_module": "@jupyter-widgets/controls",
            "_model_module_version": "1.5.0",
            "_model_name": "DescriptionStyleModel",
            "_view_count": null,
            "_view_module": "@jupyter-widgets/base",
            "_view_module_version": "1.2.0",
            "_view_name": "StyleView",
            "description_width": ""
          }
        },
        "68234f329c024f9999951097f39b45b7": {
          "model_module": "@jupyter-widgets/controls",
          "model_module_version": "1.5.0",
          "model_name": "DescriptionStyleModel",
          "state": {
            "_model_module": "@jupyter-widgets/controls",
            "_model_module_version": "1.5.0",
            "_model_name": "DescriptionStyleModel",
            "_view_count": null,
            "_view_module": "@jupyter-widgets/base",
            "_view_module_version": "1.2.0",
            "_view_name": "StyleView",
            "description_width": ""
          }
        },
        "6841a5e011b94c97a4186c86641f76e5": {
          "model_module": "@jupyter-widgets/base",
          "model_module_version": "1.2.0",
          "model_name": "LayoutModel",
          "state": {
            "_model_module": "@jupyter-widgets/base",
            "_model_module_version": "1.2.0",
            "_model_name": "LayoutModel",
            "_view_count": null,
            "_view_module": "@jupyter-widgets/base",
            "_view_module_version": "1.2.0",
            "_view_name": "LayoutView",
            "align_content": null,
            "align_items": null,
            "align_self": null,
            "border": null,
            "bottom": null,
            "display": null,
            "flex": null,
            "flex_flow": null,
            "grid_area": null,
            "grid_auto_columns": null,
            "grid_auto_flow": null,
            "grid_auto_rows": null,
            "grid_column": null,
            "grid_gap": null,
            "grid_row": null,
            "grid_template_areas": null,
            "grid_template_columns": null,
            "grid_template_rows": null,
            "height": null,
            "justify_content": null,
            "justify_items": null,
            "left": null,
            "margin": null,
            "max_height": null,
            "max_width": null,
            "min_height": null,
            "min_width": null,
            "object_fit": null,
            "object_position": null,
            "order": null,
            "overflow": null,
            "overflow_x": null,
            "overflow_y": null,
            "padding": null,
            "right": null,
            "top": null,
            "visibility": null,
            "width": null
          }
        },
        "6dc70e698d66453cb54285b3eec0ede1": {
          "model_module": "@jupyter-widgets/controls",
          "model_module_version": "1.5.0",
          "model_name": "HTMLModel",
          "state": {
            "_dom_classes": [],
            "_model_module": "@jupyter-widgets/controls",
            "_model_module_version": "1.5.0",
            "_model_name": "HTMLModel",
            "_view_count": null,
            "_view_module": "@jupyter-widgets/controls",
            "_view_module_version": "1.5.0",
            "_view_name": "HTMLView",
            "description": "",
            "description_tooltip": null,
            "layout": "IPY_MODEL_9c022c7f918148848637a89bb74f494d",
            "placeholder": "​",
            "style": "IPY_MODEL_f6b9651c73bb4940b71641dd1fbbbc8b",
            "value": "Render HTML: 100%"
          }
        },
        "7313727977e246e7beb6a1871f087f02": {
          "model_module": "@jupyter-widgets/controls",
          "model_module_version": "1.5.0",
          "model_name": "HTMLModel",
          "state": {
            "_dom_classes": [],
            "_model_module": "@jupyter-widgets/controls",
            "_model_module_version": "1.5.0",
            "_model_name": "HTMLModel",
            "_view_count": null,
            "_view_module": "@jupyter-widgets/controls",
            "_view_module_version": "1.5.0",
            "_view_name": "HTMLView",
            "description": "",
            "description_tooltip": null,
            "layout": "IPY_MODEL_c864f1e4b33447228da3b7190e592268",
            "placeholder": "​",
            "style": "IPY_MODEL_c506f4277e1445b7a9d4e631bd017b76",
            "value": " 1/1 [00:00&lt;00:00, 36.76it/s]"
          }
        },
        "73db5e4563a546a9b172da8ba8fbb69b": {
          "model_module": "@jupyter-widgets/controls",
          "model_module_version": "1.5.0",
          "model_name": "HTMLModel",
          "state": {
            "_dom_classes": [],
            "_model_module": "@jupyter-widgets/controls",
            "_model_module_version": "1.5.0",
            "_model_name": "HTMLModel",
            "_view_count": null,
            "_view_module": "@jupyter-widgets/controls",
            "_view_module_version": "1.5.0",
            "_view_name": "HTMLView",
            "description": "",
            "description_tooltip": null,
            "layout": "IPY_MODEL_e4d3262b2bce41bc8a4b67c9cdae85a6",
            "placeholder": "​",
            "style": "IPY_MODEL_272ab165b1a04fa9945d44292c3a0de8",
            "value": " 1/1 [00:01&lt;00:00,  1.22s/it]"
          }
        },
        "7ecd7582334f45f5a437b7e2eff5dc2b": {
          "model_module": "@jupyter-widgets/base",
          "model_module_version": "1.2.0",
          "model_name": "LayoutModel",
          "state": {
            "_model_module": "@jupyter-widgets/base",
            "_model_module_version": "1.2.0",
            "_model_name": "LayoutModel",
            "_view_count": null,
            "_view_module": "@jupyter-widgets/base",
            "_view_module_version": "1.2.0",
            "_view_name": "LayoutView",
            "align_content": null,
            "align_items": null,
            "align_self": null,
            "border": null,
            "bottom": null,
            "display": null,
            "flex": null,
            "flex_flow": null,
            "grid_area": null,
            "grid_auto_columns": null,
            "grid_auto_flow": null,
            "grid_auto_rows": null,
            "grid_column": null,
            "grid_gap": null,
            "grid_row": null,
            "grid_template_areas": null,
            "grid_template_columns": null,
            "grid_template_rows": null,
            "height": null,
            "justify_content": null,
            "justify_items": null,
            "left": null,
            "margin": null,
            "max_height": null,
            "max_width": null,
            "min_height": null,
            "min_width": null,
            "object_fit": null,
            "object_position": null,
            "order": null,
            "overflow": null,
            "overflow_x": null,
            "overflow_y": null,
            "padding": null,
            "right": null,
            "top": null,
            "visibility": null,
            "width": null
          }
        },
        "80905eac9c0844bd8ae78522a7a1554a": {
          "model_module": "@jupyter-widgets/base",
          "model_module_version": "1.2.0",
          "model_name": "LayoutModel",
          "state": {
            "_model_module": "@jupyter-widgets/base",
            "_model_module_version": "1.2.0",
            "_model_name": "LayoutModel",
            "_view_count": null,
            "_view_module": "@jupyter-widgets/base",
            "_view_module_version": "1.2.0",
            "_view_name": "LayoutView",
            "align_content": null,
            "align_items": null,
            "align_self": null,
            "border": null,
            "bottom": null,
            "display": null,
            "flex": null,
            "flex_flow": null,
            "grid_area": null,
            "grid_auto_columns": null,
            "grid_auto_flow": null,
            "grid_auto_rows": null,
            "grid_column": null,
            "grid_gap": null,
            "grid_row": null,
            "grid_template_areas": null,
            "grid_template_columns": null,
            "grid_template_rows": null,
            "height": null,
            "justify_content": null,
            "justify_items": null,
            "left": null,
            "margin": null,
            "max_height": null,
            "max_width": null,
            "min_height": null,
            "min_width": null,
            "object_fit": null,
            "object_position": null,
            "order": null,
            "overflow": null,
            "overflow_x": null,
            "overflow_y": null,
            "padding": null,
            "right": null,
            "top": null,
            "visibility": null,
            "width": null
          }
        },
        "9bd2071a00094cf29b0bbf509e929b0b": {
          "model_module": "@jupyter-widgets/base",
          "model_module_version": "1.2.0",
          "model_name": "LayoutModel",
          "state": {
            "_model_module": "@jupyter-widgets/base",
            "_model_module_version": "1.2.0",
            "_model_name": "LayoutModel",
            "_view_count": null,
            "_view_module": "@jupyter-widgets/base",
            "_view_module_version": "1.2.0",
            "_view_name": "LayoutView",
            "align_content": null,
            "align_items": null,
            "align_self": null,
            "border": null,
            "bottom": null,
            "display": null,
            "flex": null,
            "flex_flow": null,
            "grid_area": null,
            "grid_auto_columns": null,
            "grid_auto_flow": null,
            "grid_auto_rows": null,
            "grid_column": null,
            "grid_gap": null,
            "grid_row": null,
            "grid_template_areas": null,
            "grid_template_columns": null,
            "grid_template_rows": null,
            "height": null,
            "justify_content": null,
            "justify_items": null,
            "left": null,
            "margin": null,
            "max_height": null,
            "max_width": null,
            "min_height": null,
            "min_width": null,
            "object_fit": null,
            "object_position": null,
            "order": null,
            "overflow": null,
            "overflow_x": null,
            "overflow_y": null,
            "padding": null,
            "right": null,
            "top": null,
            "visibility": null,
            "width": null
          }
        },
        "9c022c7f918148848637a89bb74f494d": {
          "model_module": "@jupyter-widgets/base",
          "model_module_version": "1.2.0",
          "model_name": "LayoutModel",
          "state": {
            "_model_module": "@jupyter-widgets/base",
            "_model_module_version": "1.2.0",
            "_model_name": "LayoutModel",
            "_view_count": null,
            "_view_module": "@jupyter-widgets/base",
            "_view_module_version": "1.2.0",
            "_view_name": "LayoutView",
            "align_content": null,
            "align_items": null,
            "align_self": null,
            "border": null,
            "bottom": null,
            "display": null,
            "flex": null,
            "flex_flow": null,
            "grid_area": null,
            "grid_auto_columns": null,
            "grid_auto_flow": null,
            "grid_auto_rows": null,
            "grid_column": null,
            "grid_gap": null,
            "grid_row": null,
            "grid_template_areas": null,
            "grid_template_columns": null,
            "grid_template_rows": null,
            "height": null,
            "justify_content": null,
            "justify_items": null,
            "left": null,
            "margin": null,
            "max_height": null,
            "max_width": null,
            "min_height": null,
            "min_width": null,
            "object_fit": null,
            "object_position": null,
            "order": null,
            "overflow": null,
            "overflow_x": null,
            "overflow_y": null,
            "padding": null,
            "right": null,
            "top": null,
            "visibility": null,
            "width": null
          }
        },
        "a80a1e3b92a04e24a11c8564258ac5f8": {
          "model_module": "@jupyter-widgets/controls",
          "model_module_version": "1.5.0",
          "model_name": "HTMLModel",
          "state": {
            "_dom_classes": [],
            "_model_module": "@jupyter-widgets/controls",
            "_model_module_version": "1.5.0",
            "_model_name": "HTMLModel",
            "_view_count": null,
            "_view_module": "@jupyter-widgets/controls",
            "_view_module_version": "1.5.0",
            "_view_name": "HTMLView",
            "description": "",
            "description_tooltip": null,
            "layout": "IPY_MODEL_238e2e452b69422ab74be7276324d897",
            "placeholder": "​",
            "style": "IPY_MODEL_68234f329c024f9999951097f39b45b7",
            "value": " 1/1 [00:06&lt;00:00,  6.24s/it]"
          }
        },
        "aa8240f7ad5e4ccaa8ef5e10348a6a7f": {
          "model_module": "@jupyter-widgets/controls",
          "model_module_version": "1.5.0",
          "model_name": "ProgressStyleModel",
          "state": {
            "_model_module": "@jupyter-widgets/controls",
            "_model_module_version": "1.5.0",
            "_model_name": "ProgressStyleModel",
            "_view_count": null,
            "_view_module": "@jupyter-widgets/base",
            "_view_module_version": "1.2.0",
            "_view_name": "StyleView",
            "bar_color": null,
            "description_width": ""
          }
        },
        "abf802c197634f298b4840e3f1460c3a": {
          "model_module": "@jupyter-widgets/controls",
          "model_module_version": "1.5.0",
          "model_name": "FloatProgressModel",
          "state": {
            "_dom_classes": [],
            "_model_module": "@jupyter-widgets/controls",
            "_model_module_version": "1.5.0",
            "_model_name": "FloatProgressModel",
            "_view_count": null,
            "_view_module": "@jupyter-widgets/controls",
            "_view_module_version": "1.5.0",
            "_view_name": "ProgressView",
            "bar_style": "success",
            "description": "",
            "description_tooltip": null,
            "layout": "IPY_MODEL_9bd2071a00094cf29b0bbf509e929b0b",
            "max": 1,
            "min": 0,
            "orientation": "horizontal",
            "style": "IPY_MODEL_621fe13f3c624c26b41509ffefe2a3ae",
            "value": 1
          }
        },
        "b22c0e06b5e24f599aeafc27f6a1ec1c": {
          "model_module": "@jupyter-widgets/controls",
          "model_module_version": "1.5.0",
          "model_name": "DescriptionStyleModel",
          "state": {
            "_model_module": "@jupyter-widgets/controls",
            "_model_module_version": "1.5.0",
            "_model_name": "DescriptionStyleModel",
            "_view_count": null,
            "_view_module": "@jupyter-widgets/base",
            "_view_module_version": "1.2.0",
            "_view_name": "StyleView",
            "description_width": ""
          }
        },
        "b36885ab1a8d45be8c967380e9b7bbee": {
          "model_module": "@jupyter-widgets/base",
          "model_module_version": "1.2.0",
          "model_name": "LayoutModel",
          "state": {
            "_model_module": "@jupyter-widgets/base",
            "_model_module_version": "1.2.0",
            "_model_name": "LayoutModel",
            "_view_count": null,
            "_view_module": "@jupyter-widgets/base",
            "_view_module_version": "1.2.0",
            "_view_name": "LayoutView",
            "align_content": null,
            "align_items": null,
            "align_self": null,
            "border": null,
            "bottom": null,
            "display": null,
            "flex": null,
            "flex_flow": null,
            "grid_area": null,
            "grid_auto_columns": null,
            "grid_auto_flow": null,
            "grid_auto_rows": null,
            "grid_column": null,
            "grid_gap": null,
            "grid_row": null,
            "grid_template_areas": null,
            "grid_template_columns": null,
            "grid_template_rows": null,
            "height": null,
            "justify_content": null,
            "justify_items": null,
            "left": null,
            "margin": null,
            "max_height": null,
            "max_width": null,
            "min_height": null,
            "min_width": null,
            "object_fit": null,
            "object_position": null,
            "order": null,
            "overflow": null,
            "overflow_x": null,
            "overflow_y": null,
            "padding": null,
            "right": null,
            "top": null,
            "visibility": null,
            "width": null
          }
        },
        "bcd2d4173cab4b98a4821ebde9117320": {
          "model_module": "@jupyter-widgets/base",
          "model_module_version": "1.2.0",
          "model_name": "LayoutModel",
          "state": {
            "_model_module": "@jupyter-widgets/base",
            "_model_module_version": "1.2.0",
            "_model_name": "LayoutModel",
            "_view_count": null,
            "_view_module": "@jupyter-widgets/base",
            "_view_module_version": "1.2.0",
            "_view_name": "LayoutView",
            "align_content": null,
            "align_items": null,
            "align_self": null,
            "border": null,
            "bottom": null,
            "display": null,
            "flex": null,
            "flex_flow": null,
            "grid_area": null,
            "grid_auto_columns": null,
            "grid_auto_flow": null,
            "grid_auto_rows": null,
            "grid_column": null,
            "grid_gap": null,
            "grid_row": null,
            "grid_template_areas": null,
            "grid_template_columns": null,
            "grid_template_rows": null,
            "height": null,
            "justify_content": null,
            "justify_items": null,
            "left": null,
            "margin": null,
            "max_height": null,
            "max_width": null,
            "min_height": null,
            "min_width": null,
            "object_fit": null,
            "object_position": null,
            "order": null,
            "overflow": null,
            "overflow_x": null,
            "overflow_y": null,
            "padding": null,
            "right": null,
            "top": null,
            "visibility": null,
            "width": null
          }
        },
        "bf804ec26b504a70b66147c8e98a4086": {
          "model_module": "@jupyter-widgets/controls",
          "model_module_version": "1.5.0",
          "model_name": "HBoxModel",
          "state": {
            "_dom_classes": [],
            "_model_module": "@jupyter-widgets/controls",
            "_model_module_version": "1.5.0",
            "_model_name": "HBoxModel",
            "_view_count": null,
            "_view_module": "@jupyter-widgets/controls",
            "_view_module_version": "1.5.0",
            "_view_name": "HBoxView",
            "box_style": "",
            "children": [
              "IPY_MODEL_413f2f3363544324b0cd294393a7f802",
              "IPY_MODEL_abf802c197634f298b4840e3f1460c3a",
              "IPY_MODEL_a80a1e3b92a04e24a11c8564258ac5f8"
            ],
            "layout": "IPY_MODEL_3c6f375cb87048d59eacd75d91c27eb1"
          }
        },
        "c506f4277e1445b7a9d4e631bd017b76": {
          "model_module": "@jupyter-widgets/controls",
          "model_module_version": "1.5.0",
          "model_name": "DescriptionStyleModel",
          "state": {
            "_model_module": "@jupyter-widgets/controls",
            "_model_module_version": "1.5.0",
            "_model_name": "DescriptionStyleModel",
            "_view_count": null,
            "_view_module": "@jupyter-widgets/base",
            "_view_module_version": "1.2.0",
            "_view_name": "StyleView",
            "description_width": ""
          }
        },
        "c864f1e4b33447228da3b7190e592268": {
          "model_module": "@jupyter-widgets/base",
          "model_module_version": "1.2.0",
          "model_name": "LayoutModel",
          "state": {
            "_model_module": "@jupyter-widgets/base",
            "_model_module_version": "1.2.0",
            "_model_name": "LayoutModel",
            "_view_count": null,
            "_view_module": "@jupyter-widgets/base",
            "_view_module_version": "1.2.0",
            "_view_name": "LayoutView",
            "align_content": null,
            "align_items": null,
            "align_self": null,
            "border": null,
            "bottom": null,
            "display": null,
            "flex": null,
            "flex_flow": null,
            "grid_area": null,
            "grid_auto_columns": null,
            "grid_auto_flow": null,
            "grid_auto_rows": null,
            "grid_column": null,
            "grid_gap": null,
            "grid_row": null,
            "grid_template_areas": null,
            "grid_template_columns": null,
            "grid_template_rows": null,
            "height": null,
            "justify_content": null,
            "justify_items": null,
            "left": null,
            "margin": null,
            "max_height": null,
            "max_width": null,
            "min_height": null,
            "min_width": null,
            "object_fit": null,
            "object_position": null,
            "order": null,
            "overflow": null,
            "overflow_x": null,
            "overflow_y": null,
            "padding": null,
            "right": null,
            "top": null,
            "visibility": null,
            "width": null
          }
        },
        "c956687579584f4e918dca9f0a8ac964": {
          "model_module": "@jupyter-widgets/controls",
          "model_module_version": "1.5.0",
          "model_name": "HBoxModel",
          "state": {
            "_dom_classes": [],
            "_model_module": "@jupyter-widgets/controls",
            "_model_module_version": "1.5.0",
            "_model_name": "HBoxModel",
            "_view_count": null,
            "_view_module": "@jupyter-widgets/controls",
            "_view_module_version": "1.5.0",
            "_view_name": "HBoxView",
            "box_style": "",
            "children": [
              "IPY_MODEL_d44cd586d01d44478a6d68ac60a3a20b",
              "IPY_MODEL_4105fbc728a34e1890c3eee4545a60e7",
              "IPY_MODEL_7313727977e246e7beb6a1871f087f02"
            ],
            "layout": "IPY_MODEL_48bd0c7d548c482d867dc1a039378380"
          }
        },
        "cc943c3c3a274010b7c01f592813b38d": {
          "model_module": "@jupyter-widgets/controls",
          "model_module_version": "1.5.0",
          "model_name": "FloatProgressModel",
          "state": {
            "_dom_classes": [],
            "_model_module": "@jupyter-widgets/controls",
            "_model_module_version": "1.5.0",
            "_model_name": "FloatProgressModel",
            "_view_count": null,
            "_view_module": "@jupyter-widgets/controls",
            "_view_module_version": "1.5.0",
            "_view_name": "ProgressView",
            "bar_style": "success",
            "description": "",
            "description_tooltip": null,
            "layout": "IPY_MODEL_fe7b5710e2064e82b5e1cf62ef6f7efd",
            "max": 1,
            "min": 0,
            "orientation": "horizontal",
            "style": "IPY_MODEL_aa8240f7ad5e4ccaa8ef5e10348a6a7f",
            "value": 1
          }
        },
        "d44cd586d01d44478a6d68ac60a3a20b": {
          "model_module": "@jupyter-widgets/controls",
          "model_module_version": "1.5.0",
          "model_name": "HTMLModel",
          "state": {
            "_dom_classes": [],
            "_model_module": "@jupyter-widgets/controls",
            "_model_module_version": "1.5.0",
            "_model_name": "HTMLModel",
            "_view_count": null,
            "_view_module": "@jupyter-widgets/controls",
            "_view_module_version": "1.5.0",
            "_view_name": "HTMLView",
            "description": "",
            "description_tooltip": null,
            "layout": "IPY_MODEL_26f3c11e83744e998cf67dd380685a8a",
            "placeholder": "​",
            "style": "IPY_MODEL_b22c0e06b5e24f599aeafc27f6a1ec1c",
            "value": "Export report to file: 100%"
          }
        },
        "e01a1294dc5a41ae8ce00ba48e97c118": {
          "model_module": "@jupyter-widgets/controls",
          "model_module_version": "1.5.0",
          "model_name": "ProgressStyleModel",
          "state": {
            "_model_module": "@jupyter-widgets/controls",
            "_model_module_version": "1.5.0",
            "_model_name": "ProgressStyleModel",
            "_view_count": null,
            "_view_module": "@jupyter-widgets/base",
            "_view_module_version": "1.2.0",
            "_view_name": "StyleView",
            "bar_color": null,
            "description_width": ""
          }
        },
        "e4d3262b2bce41bc8a4b67c9cdae85a6": {
          "model_module": "@jupyter-widgets/base",
          "model_module_version": "1.2.0",
          "model_name": "LayoutModel",
          "state": {
            "_model_module": "@jupyter-widgets/base",
            "_model_module_version": "1.2.0",
            "_model_name": "LayoutModel",
            "_view_count": null,
            "_view_module": "@jupyter-widgets/base",
            "_view_module_version": "1.2.0",
            "_view_name": "LayoutView",
            "align_content": null,
            "align_items": null,
            "align_self": null,
            "border": null,
            "bottom": null,
            "display": null,
            "flex": null,
            "flex_flow": null,
            "grid_area": null,
            "grid_auto_columns": null,
            "grid_auto_flow": null,
            "grid_auto_rows": null,
            "grid_column": null,
            "grid_gap": null,
            "grid_row": null,
            "grid_template_areas": null,
            "grid_template_columns": null,
            "grid_template_rows": null,
            "height": null,
            "justify_content": null,
            "justify_items": null,
            "left": null,
            "margin": null,
            "max_height": null,
            "max_width": null,
            "min_height": null,
            "min_width": null,
            "object_fit": null,
            "object_position": null,
            "order": null,
            "overflow": null,
            "overflow_x": null,
            "overflow_y": null,
            "padding": null,
            "right": null,
            "top": null,
            "visibility": null,
            "width": null
          }
        },
        "f51e8eb0fd7c4f7cadf11da3310fc47d": {
          "model_module": "@jupyter-widgets/controls",
          "model_module_version": "1.5.0",
          "model_name": "DescriptionStyleModel",
          "state": {
            "_model_module": "@jupyter-widgets/controls",
            "_model_module_version": "1.5.0",
            "_model_name": "DescriptionStyleModel",
            "_view_count": null,
            "_view_module": "@jupyter-widgets/base",
            "_view_module_version": "1.2.0",
            "_view_name": "StyleView",
            "description_width": ""
          }
        },
        "f6b9651c73bb4940b71641dd1fbbbc8b": {
          "model_module": "@jupyter-widgets/controls",
          "model_module_version": "1.5.0",
          "model_name": "DescriptionStyleModel",
          "state": {
            "_model_module": "@jupyter-widgets/controls",
            "_model_module_version": "1.5.0",
            "_model_name": "DescriptionStyleModel",
            "_view_count": null,
            "_view_module": "@jupyter-widgets/base",
            "_view_module_version": "1.2.0",
            "_view_name": "StyleView",
            "description_width": ""
          }
        },
        "fe7b5710e2064e82b5e1cf62ef6f7efd": {
          "model_module": "@jupyter-widgets/base",
          "model_module_version": "1.2.0",
          "model_name": "LayoutModel",
          "state": {
            "_model_module": "@jupyter-widgets/base",
            "_model_module_version": "1.2.0",
            "_model_name": "LayoutModel",
            "_view_count": null,
            "_view_module": "@jupyter-widgets/base",
            "_view_module_version": "1.2.0",
            "_view_name": "LayoutView",
            "align_content": null,
            "align_items": null,
            "align_self": null,
            "border": null,
            "bottom": null,
            "display": null,
            "flex": null,
            "flex_flow": null,
            "grid_area": null,
            "grid_auto_columns": null,
            "grid_auto_flow": null,
            "grid_auto_rows": null,
            "grid_column": null,
            "grid_gap": null,
            "grid_row": null,
            "grid_template_areas": null,
            "grid_template_columns": null,
            "grid_template_rows": null,
            "height": null,
            "justify_content": null,
            "justify_items": null,
            "left": null,
            "margin": null,
            "max_height": null,
            "max_width": null,
            "min_height": null,
            "min_width": null,
            "object_fit": null,
            "object_position": null,
            "order": null,
            "overflow": null,
            "overflow_x": null,
            "overflow_y": null,
            "padding": null,
            "right": null,
            "top": null,
            "visibility": null,
            "width": null
          }
        }
      }
    }
  },
  "nbformat": 4,
  "nbformat_minor": 0
}
